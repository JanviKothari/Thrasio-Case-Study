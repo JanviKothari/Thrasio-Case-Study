{
 "cells": [
  {
   "cell_type": "code",
   "execution_count": 1,
   "metadata": {},
   "outputs": [],
   "source": [
    "import pandas as pd\n",
    "import numpy as np\n",
    "import matplotlib.pyplot as plt\n",
    "import matplotlib.dates as mdates\n",
    "import matplotlib as mpl\n",
    "import seaborn as sns\n",
    "from collections import Counter\n",
    "import datetime\n",
    "import re\n",
    "\n",
    "from statsmodels.tsa.stattools import adfuller\n",
    "from sklearn.metrics import mean_squared_error\n",
    "from statsmodels.graphics.tsaplots import plot_acf, plot_pacf\n",
    "from statsmodels.tsa.arima_model import ARIMA\n",
    "import statsmodels.api as sm\n",
    "\n",
    "\n",
    "import warnings\n",
    "warnings.filterwarnings('ignore')\n",
    "%matplotlib inline"
   ]
  },
  {
   "cell_type": "markdown",
   "metadata": {},
   "source": [
    "### Business Use Case\n",
    "- The goal of this project is to analyze the past demand of different products, approach to develop forecasting mechanisms for future, evaluate & interpret results based on the analysis. \n",
    "- Based on this analysis, we want to be able to develop intuition about the business.\n",
    "- We also want to assess the different approaches taken, different techniques applied and make inferences about the drawbacks of the failed attempts and note the challenges faced during this."
   ]
  },
  {
   "cell_type": "markdown",
   "metadata": {},
   "source": [
    "### I. Reading the data for our demand forecasting"
   ]
  },
  {
   "cell_type": "code",
   "execution_count": 2,
   "metadata": {},
   "outputs": [],
   "source": [
    "DATAPATH = '../data/CASE_STUDY_FINAL.csv'"
   ]
  },
  {
   "cell_type": "code",
   "execution_count": 3,
   "metadata": {},
   "outputs": [
    {
     "data": {
      "text/html": [
       "<div>\n",
       "<style scoped>\n",
       "    .dataframe tbody tr th:only-of-type {\n",
       "        vertical-align: middle;\n",
       "    }\n",
       "\n",
       "    .dataframe tbody tr th {\n",
       "        vertical-align: top;\n",
       "    }\n",
       "\n",
       "    .dataframe thead th {\n",
       "        text-align: right;\n",
       "    }\n",
       "</style>\n",
       "<table border=\"1\" class=\"dataframe\">\n",
       "  <thead>\n",
       "    <tr style=\"text-align: right;\">\n",
       "      <th></th>\n",
       "      <th>Date</th>\n",
       "      <th>SKU_mkt</th>\n",
       "      <th>Brand ID</th>\n",
       "      <th>Units</th>\n",
       "      <th>PPC Orders</th>\n",
       "      <th>PPC Cost</th>\n",
       "      <th>Organic</th>\n",
       "    </tr>\n",
       "  </thead>\n",
       "  <tbody>\n",
       "    <tr>\n",
       "      <th>0</th>\n",
       "      <td>1/1/17</td>\n",
       "      <td>MODLB01GR1_US</td>\n",
       "      <td>1</td>\n",
       "      <td>1</td>\n",
       "      <td>1</td>\n",
       "      <td>($7.30)</td>\n",
       "      <td>0</td>\n",
       "    </tr>\n",
       "    <tr>\n",
       "      <th>1</th>\n",
       "      <td>1/1/17</td>\n",
       "      <td>MODSSBL_US</td>\n",
       "      <td>1</td>\n",
       "      <td>9</td>\n",
       "      <td>0</td>\n",
       "      <td>($6.83)</td>\n",
       "      <td>9</td>\n",
       "    </tr>\n",
       "    <tr>\n",
       "      <th>2</th>\n",
       "      <td>1/1/17</td>\n",
       "      <td>MODLB01GR2_US</td>\n",
       "      <td>1</td>\n",
       "      <td>8</td>\n",
       "      <td>1</td>\n",
       "      <td>($1.31)</td>\n",
       "      <td>7</td>\n",
       "    </tr>\n",
       "  </tbody>\n",
       "</table>\n",
       "</div>"
      ],
      "text/plain": [
       "     Date        SKU_mkt  Brand ID  Units  PPC Orders PPC Cost  Organic\n",
       "0  1/1/17  MODLB01GR1_US         1      1           1  ($7.30)        0\n",
       "1  1/1/17     MODSSBL_US         1      9           0  ($6.83)        9\n",
       "2  1/1/17  MODLB01GR2_US         1      8           1  ($1.31)        7"
      ]
     },
     "execution_count": 3,
     "metadata": {},
     "output_type": "execute_result"
    }
   ],
   "source": [
    "data = pd.read_csv(DATAPATH)\n",
    "data.head(3)"
   ]
  },
  {
   "cell_type": "code",
   "execution_count": 4,
   "metadata": {},
   "outputs": [
    {
     "data": {
      "text/plain": [
       "(266500, 7)"
      ]
     },
     "execution_count": 4,
     "metadata": {},
     "output_type": "execute_result"
    }
   ],
   "source": [
    "data.shape"
   ]
  },
  {
   "cell_type": "markdown",
   "metadata": {},
   "source": [
    "### II. Exploring the dataset\n",
    "\n",
    "Some observations we make on the dataset are:\n",
    "1. First, we check if our data has any nulls or NaNs and fortunately, we don't observe any null values in our dataset.\n",
    "2. The data we have has 483 different SKUs i.e. different products spread across 50 brands.\n",
    "3. We observe that there are ~5000 records that have have Organic units with negative values. This could be an issue that must have occurred while recording data, hence we will remove these records for a cleaner dataset in the preprocessing section of our analysis.\n",
    "4. We then want to just look at how much spend is done via PPC costs in our entire dataset. We see that this is about 4.9MM dollars which quite a lot of expenditure on just PPC ads but this is spread across multiple brands.\n",
    "5. We see that with the 50 unique brands, on an average there are approximately 10 SKUs associate with 1 Brand ID. Maximum count of SKUs for a brand is 53."
   ]
  },
  {
   "cell_type": "code",
   "execution_count": 5,
   "metadata": {},
   "outputs": [
    {
     "data": {
      "text/plain": [
       "Date          0\n",
       "SKU_mkt       0\n",
       "Brand ID      0\n",
       "Units         0\n",
       "PPC Orders    0\n",
       "PPC Cost      0\n",
       "Organic       0\n",
       "dtype: int64"
      ]
     },
     "execution_count": 5,
     "metadata": {},
     "output_type": "execute_result"
    }
   ],
   "source": [
    "data.isna().sum()"
   ]
  },
  {
   "cell_type": "code",
   "execution_count": 6,
   "metadata": {},
   "outputs": [
    {
     "data": {
      "text/plain": [
       "Date          0\n",
       "SKU_mkt       0\n",
       "Brand ID      0\n",
       "Units         0\n",
       "PPC Orders    0\n",
       "PPC Cost      0\n",
       "Organic       0\n",
       "dtype: int64"
      ]
     },
     "execution_count": 6,
     "metadata": {},
     "output_type": "execute_result"
    }
   ],
   "source": [
    "data.isnull().sum()"
   ]
  },
  {
   "cell_type": "code",
   "execution_count": 7,
   "metadata": {},
   "outputs": [
    {
     "data": {
      "text/plain": [
       "(483, 50)"
      ]
     },
     "execution_count": 7,
     "metadata": {},
     "output_type": "execute_result"
    }
   ],
   "source": [
    "data['SKU_mkt'].nunique(), data['Brand ID'].nunique()"
   ]
  },
  {
   "cell_type": "code",
   "execution_count": 8,
   "metadata": {},
   "outputs": [
    {
     "name": "stdout",
     "output_type": "stream",
     "text": [
      "4990\n"
     ]
    }
   ],
   "source": [
    "print(len(data[data['Organic'] < 0]))"
   ]
  },
  {
   "cell_type": "code",
   "execution_count": 9,
   "metadata": {},
   "outputs": [
    {
     "data": {
      "text/plain": [
       "(9.8, 53)"
      ]
     },
     "execution_count": 9,
     "metadata": {},
     "output_type": "execute_result"
    }
   ],
   "source": [
    "data.groupby(['Brand ID'])['SKU_mkt'].nunique().mean(), data.groupby(['Brand ID'])['SKU_mkt'].nunique().max()"
   ]
  },
  {
   "cell_type": "markdown",
   "metadata": {},
   "source": [
    "### III. Preprocessing the dataset\n",
    "\n",
    "1. *PPC Cost column* - In order to use this feature for future analysis, modeling & predictions we convert this feature to a numeric value by excluding the dollar ($) sign, commas and parantheses.\n",
    "2. *Date column* - We want to ensure that our Date feature is in pandas datetime format. We also fetch year, month & day from this datetime feature to be used as additional features for modeling & analysis.\n",
    "3. *Organic column* - Dropping records which contain negative values. On doing this, we observe that the mean number of Units/Organic orders, which suggests that these few records don't have a high impact on our mean value of Units ordered."
   ]
  },
  {
   "cell_type": "markdown",
   "metadata": {},
   "source": [
    "#### 1. Processing PPC Cost"
   ]
  },
  {
   "cell_type": "code",
   "execution_count": 10,
   "metadata": {},
   "outputs": [],
   "source": [
    "def preprocess_ppccost(cost_text):\n",
    "    string_cost = re.sub('[,$()]','',cost_text)\n",
    "    float_cost = float(string_cost)\n",
    "    return float_cost"
   ]
  },
  {
   "cell_type": "code",
   "execution_count": 11,
   "metadata": {},
   "outputs": [
    {
     "data": {
      "text/html": [
       "<div>\n",
       "<style scoped>\n",
       "    .dataframe tbody tr th:only-of-type {\n",
       "        vertical-align: middle;\n",
       "    }\n",
       "\n",
       "    .dataframe tbody tr th {\n",
       "        vertical-align: top;\n",
       "    }\n",
       "\n",
       "    .dataframe thead th {\n",
       "        text-align: right;\n",
       "    }\n",
       "</style>\n",
       "<table border=\"1\" class=\"dataframe\">\n",
       "  <thead>\n",
       "    <tr style=\"text-align: right;\">\n",
       "      <th></th>\n",
       "      <th>Date</th>\n",
       "      <th>SKU_mkt</th>\n",
       "      <th>Brand ID</th>\n",
       "      <th>Units</th>\n",
       "      <th>PPC Orders</th>\n",
       "      <th>PPC Cost</th>\n",
       "      <th>Organic</th>\n",
       "      <th>Processed_PPC Cost</th>\n",
       "    </tr>\n",
       "  </thead>\n",
       "  <tbody>\n",
       "    <tr>\n",
       "      <th>0</th>\n",
       "      <td>1/1/17</td>\n",
       "      <td>MODLB01GR1_US</td>\n",
       "      <td>1</td>\n",
       "      <td>1</td>\n",
       "      <td>1</td>\n",
       "      <td>($7.30)</td>\n",
       "      <td>0</td>\n",
       "      <td>7.30</td>\n",
       "    </tr>\n",
       "    <tr>\n",
       "      <th>1</th>\n",
       "      <td>1/1/17</td>\n",
       "      <td>MODSSBL_US</td>\n",
       "      <td>1</td>\n",
       "      <td>9</td>\n",
       "      <td>0</td>\n",
       "      <td>($6.83)</td>\n",
       "      <td>9</td>\n",
       "      <td>6.83</td>\n",
       "    </tr>\n",
       "    <tr>\n",
       "      <th>2</th>\n",
       "      <td>1/1/17</td>\n",
       "      <td>MODLB01GR2_US</td>\n",
       "      <td>1</td>\n",
       "      <td>8</td>\n",
       "      <td>1</td>\n",
       "      <td>($1.31)</td>\n",
       "      <td>7</td>\n",
       "      <td>1.31</td>\n",
       "    </tr>\n",
       "  </tbody>\n",
       "</table>\n",
       "</div>"
      ],
      "text/plain": [
       "     Date        SKU_mkt  Brand ID  Units  PPC Orders PPC Cost  Organic  \\\n",
       "0  1/1/17  MODLB01GR1_US         1      1           1  ($7.30)        0   \n",
       "1  1/1/17     MODSSBL_US         1      9           0  ($6.83)        9   \n",
       "2  1/1/17  MODLB01GR2_US         1      8           1  ($1.31)        7   \n",
       "\n",
       "   Processed_PPC Cost  \n",
       "0                7.30  \n",
       "1                6.83  \n",
       "2                1.31  "
      ]
     },
     "execution_count": 11,
     "metadata": {},
     "output_type": "execute_result"
    }
   ],
   "source": [
    "data['Processed_PPC Cost'] = data['PPC Cost'].apply(preprocess_ppccost)\n",
    "data.head(3)"
   ]
  },
  {
   "cell_type": "markdown",
   "metadata": {},
   "source": [
    "#### 2. Processing Date"
   ]
  },
  {
   "cell_type": "code",
   "execution_count": 12,
   "metadata": {},
   "outputs": [
    {
     "data": {
      "text/html": [
       "<div>\n",
       "<style scoped>\n",
       "    .dataframe tbody tr th:only-of-type {\n",
       "        vertical-align: middle;\n",
       "    }\n",
       "\n",
       "    .dataframe tbody tr th {\n",
       "        vertical-align: top;\n",
       "    }\n",
       "\n",
       "    .dataframe thead th {\n",
       "        text-align: right;\n",
       "    }\n",
       "</style>\n",
       "<table border=\"1\" class=\"dataframe\">\n",
       "  <thead>\n",
       "    <tr style=\"text-align: right;\">\n",
       "      <th></th>\n",
       "      <th>Date</th>\n",
       "      <th>SKU_mkt</th>\n",
       "      <th>Brand ID</th>\n",
       "      <th>Units</th>\n",
       "      <th>PPC Orders</th>\n",
       "      <th>PPC Cost</th>\n",
       "      <th>Organic</th>\n",
       "      <th>Processed_PPC Cost</th>\n",
       "      <th>Year</th>\n",
       "      <th>Month</th>\n",
       "      <th>Day</th>\n",
       "    </tr>\n",
       "  </thead>\n",
       "  <tbody>\n",
       "    <tr>\n",
       "      <th>0</th>\n",
       "      <td>2017-01-01</td>\n",
       "      <td>MODLB01GR1_US</td>\n",
       "      <td>1</td>\n",
       "      <td>1</td>\n",
       "      <td>1</td>\n",
       "      <td>($7.30)</td>\n",
       "      <td>0</td>\n",
       "      <td>7.30</td>\n",
       "      <td>2017</td>\n",
       "      <td>1</td>\n",
       "      <td>1</td>\n",
       "    </tr>\n",
       "    <tr>\n",
       "      <th>1</th>\n",
       "      <td>2017-01-01</td>\n",
       "      <td>MODSSBL_US</td>\n",
       "      <td>1</td>\n",
       "      <td>9</td>\n",
       "      <td>0</td>\n",
       "      <td>($6.83)</td>\n",
       "      <td>9</td>\n",
       "      <td>6.83</td>\n",
       "      <td>2017</td>\n",
       "      <td>1</td>\n",
       "      <td>1</td>\n",
       "    </tr>\n",
       "    <tr>\n",
       "      <th>2</th>\n",
       "      <td>2017-01-01</td>\n",
       "      <td>MODLB01GR2_US</td>\n",
       "      <td>1</td>\n",
       "      <td>8</td>\n",
       "      <td>1</td>\n",
       "      <td>($1.31)</td>\n",
       "      <td>7</td>\n",
       "      <td>1.31</td>\n",
       "      <td>2017</td>\n",
       "      <td>1</td>\n",
       "      <td>1</td>\n",
       "    </tr>\n",
       "  </tbody>\n",
       "</table>\n",
       "</div>"
      ],
      "text/plain": [
       "        Date        SKU_mkt  Brand ID  Units  PPC Orders PPC Cost  Organic  \\\n",
       "0 2017-01-01  MODLB01GR1_US         1      1           1  ($7.30)        0   \n",
       "1 2017-01-01     MODSSBL_US         1      9           0  ($6.83)        9   \n",
       "2 2017-01-01  MODLB01GR2_US         1      8           1  ($1.31)        7   \n",
       "\n",
       "   Processed_PPC Cost  Year  Month  Day  \n",
       "0                7.30  2017      1    1  \n",
       "1                6.83  2017      1    1  \n",
       "2                1.31  2017      1    1  "
      ]
     },
     "execution_count": 12,
     "metadata": {},
     "output_type": "execute_result"
    }
   ],
   "source": [
    "data['Date'] = pd.to_datetime(data['Date'])\n",
    "data['Year'] = data['Date'].dt.year\n",
    "data['Month'] = data['Date'].dt.month\n",
    "data['Day'] = data['Date'].dt.day\n",
    "\n",
    "data.head(3)"
   ]
  },
  {
   "cell_type": "code",
   "execution_count": 13,
   "metadata": {},
   "outputs": [
    {
     "data": {
      "text/html": [
       "<div>\n",
       "<style scoped>\n",
       "    .dataframe tbody tr th:only-of-type {\n",
       "        vertical-align: middle;\n",
       "    }\n",
       "\n",
       "    .dataframe tbody tr th {\n",
       "        vertical-align: top;\n",
       "    }\n",
       "\n",
       "    .dataframe thead th {\n",
       "        text-align: right;\n",
       "    }\n",
       "</style>\n",
       "<table border=\"1\" class=\"dataframe\">\n",
       "  <thead>\n",
       "    <tr style=\"text-align: right;\">\n",
       "      <th></th>\n",
       "      <th>Brand ID</th>\n",
       "      <th>Units</th>\n",
       "      <th>PPC Orders</th>\n",
       "      <th>Organic</th>\n",
       "      <th>Processed_PPC Cost</th>\n",
       "      <th>Year</th>\n",
       "      <th>Month</th>\n",
       "      <th>Day</th>\n",
       "    </tr>\n",
       "  </thead>\n",
       "  <tbody>\n",
       "    <tr>\n",
       "      <th>count</th>\n",
       "      <td>266500.000000</td>\n",
       "      <td>266500.000000</td>\n",
       "      <td>266500.000000</td>\n",
       "      <td>266500.000000</td>\n",
       "      <td>266500.000000</td>\n",
       "      <td>266500.000000</td>\n",
       "      <td>266500.000000</td>\n",
       "      <td>266500.000000</td>\n",
       "    </tr>\n",
       "    <tr>\n",
       "      <th>mean</th>\n",
       "      <td>13.370863</td>\n",
       "      <td>20.714559</td>\n",
       "      <td>2.600931</td>\n",
       "      <td>18.113629</td>\n",
       "      <td>20.056141</td>\n",
       "      <td>2018.368555</td>\n",
       "      <td>6.962563</td>\n",
       "      <td>15.703054</td>\n",
       "    </tr>\n",
       "    <tr>\n",
       "      <th>std</th>\n",
       "      <td>11.493332</td>\n",
       "      <td>48.484177</td>\n",
       "      <td>11.280347</td>\n",
       "      <td>43.101612</td>\n",
       "      <td>91.094095</td>\n",
       "      <td>0.739624</td>\n",
       "      <td>3.462034</td>\n",
       "      <td>8.815468</td>\n",
       "    </tr>\n",
       "    <tr>\n",
       "      <th>min</th>\n",
       "      <td>1.000000</td>\n",
       "      <td>0.000000</td>\n",
       "      <td>0.000000</td>\n",
       "      <td>-125.000000</td>\n",
       "      <td>0.000000</td>\n",
       "      <td>2017.000000</td>\n",
       "      <td>1.000000</td>\n",
       "      <td>1.000000</td>\n",
       "    </tr>\n",
       "    <tr>\n",
       "      <th>25%</th>\n",
       "      <td>5.000000</td>\n",
       "      <td>2.000000</td>\n",
       "      <td>0.000000</td>\n",
       "      <td>2.000000</td>\n",
       "      <td>0.000000</td>\n",
       "      <td>2018.000000</td>\n",
       "      <td>4.000000</td>\n",
       "      <td>8.000000</td>\n",
       "    </tr>\n",
       "    <tr>\n",
       "      <th>50%</th>\n",
       "      <td>11.000000</td>\n",
       "      <td>7.000000</td>\n",
       "      <td>0.000000</td>\n",
       "      <td>6.000000</td>\n",
       "      <td>0.000000</td>\n",
       "      <td>2018.000000</td>\n",
       "      <td>7.000000</td>\n",
       "      <td>16.000000</td>\n",
       "    </tr>\n",
       "    <tr>\n",
       "      <th>75%</th>\n",
       "      <td>18.000000</td>\n",
       "      <td>20.000000</td>\n",
       "      <td>0.000000</td>\n",
       "      <td>18.000000</td>\n",
       "      <td>5.760000</td>\n",
       "      <td>2019.000000</td>\n",
       "      <td>10.000000</td>\n",
       "      <td>23.000000</td>\n",
       "    </tr>\n",
       "    <tr>\n",
       "      <th>max</th>\n",
       "      <td>50.000000</td>\n",
       "      <td>6947.000000</td>\n",
       "      <td>937.000000</td>\n",
       "      <td>6947.000000</td>\n",
       "      <td>6052.670000</td>\n",
       "      <td>2020.000000</td>\n",
       "      <td>12.000000</td>\n",
       "      <td>31.000000</td>\n",
       "    </tr>\n",
       "  </tbody>\n",
       "</table>\n",
       "</div>"
      ],
      "text/plain": [
       "            Brand ID          Units     PPC Orders        Organic  \\\n",
       "count  266500.000000  266500.000000  266500.000000  266500.000000   \n",
       "mean       13.370863      20.714559       2.600931      18.113629   \n",
       "std        11.493332      48.484177      11.280347      43.101612   \n",
       "min         1.000000       0.000000       0.000000    -125.000000   \n",
       "25%         5.000000       2.000000       0.000000       2.000000   \n",
       "50%        11.000000       7.000000       0.000000       6.000000   \n",
       "75%        18.000000      20.000000       0.000000      18.000000   \n",
       "max        50.000000    6947.000000     937.000000    6947.000000   \n",
       "\n",
       "       Processed_PPC Cost           Year          Month            Day  \n",
       "count       266500.000000  266500.000000  266500.000000  266500.000000  \n",
       "mean            20.056141    2018.368555       6.962563      15.703054  \n",
       "std             91.094095       0.739624       3.462034       8.815468  \n",
       "min              0.000000    2017.000000       1.000000       1.000000  \n",
       "25%              0.000000    2018.000000       4.000000       8.000000  \n",
       "50%              0.000000    2018.000000       7.000000      16.000000  \n",
       "75%              5.760000    2019.000000      10.000000      23.000000  \n",
       "max           6052.670000    2020.000000      12.000000      31.000000  "
      ]
     },
     "execution_count": 13,
     "metadata": {},
     "output_type": "execute_result"
    }
   ],
   "source": [
    "data.describe()"
   ]
  },
  {
   "cell_type": "markdown",
   "metadata": {},
   "source": [
    "#### 3. Processing Organic"
   ]
  },
  {
   "cell_type": "code",
   "execution_count": 14,
   "metadata": {},
   "outputs": [
    {
     "name": "stdout",
     "output_type": "stream",
     "text": [
      "(261510, 11)\n"
     ]
    },
    {
     "data": {
      "text/html": [
       "<div>\n",
       "<style scoped>\n",
       "    .dataframe tbody tr th:only-of-type {\n",
       "        vertical-align: middle;\n",
       "    }\n",
       "\n",
       "    .dataframe tbody tr th {\n",
       "        vertical-align: top;\n",
       "    }\n",
       "\n",
       "    .dataframe thead th {\n",
       "        text-align: right;\n",
       "    }\n",
       "</style>\n",
       "<table border=\"1\" class=\"dataframe\">\n",
       "  <thead>\n",
       "    <tr style=\"text-align: right;\">\n",
       "      <th></th>\n",
       "      <th>Date</th>\n",
       "      <th>SKU_mkt</th>\n",
       "      <th>Brand ID</th>\n",
       "      <th>Units</th>\n",
       "      <th>PPC Orders</th>\n",
       "      <th>PPC Cost</th>\n",
       "      <th>Organic</th>\n",
       "      <th>Processed_PPC Cost</th>\n",
       "      <th>Year</th>\n",
       "      <th>Month</th>\n",
       "      <th>Day</th>\n",
       "    </tr>\n",
       "  </thead>\n",
       "  <tbody>\n",
       "    <tr>\n",
       "      <th>0</th>\n",
       "      <td>2017-01-01</td>\n",
       "      <td>MODLB01GR1_US</td>\n",
       "      <td>1</td>\n",
       "      <td>1</td>\n",
       "      <td>1</td>\n",
       "      <td>($7.30)</td>\n",
       "      <td>0</td>\n",
       "      <td>7.30</td>\n",
       "      <td>2017</td>\n",
       "      <td>1</td>\n",
       "      <td>1</td>\n",
       "    </tr>\n",
       "    <tr>\n",
       "      <th>1</th>\n",
       "      <td>2017-01-01</td>\n",
       "      <td>MODSSBL_US</td>\n",
       "      <td>1</td>\n",
       "      <td>9</td>\n",
       "      <td>0</td>\n",
       "      <td>($6.83)</td>\n",
       "      <td>9</td>\n",
       "      <td>6.83</td>\n",
       "      <td>2017</td>\n",
       "      <td>1</td>\n",
       "      <td>1</td>\n",
       "    </tr>\n",
       "    <tr>\n",
       "      <th>2</th>\n",
       "      <td>2017-01-01</td>\n",
       "      <td>MODLB01GR2_US</td>\n",
       "      <td>1</td>\n",
       "      <td>8</td>\n",
       "      <td>1</td>\n",
       "      <td>($1.31)</td>\n",
       "      <td>7</td>\n",
       "      <td>1.31</td>\n",
       "      <td>2017</td>\n",
       "      <td>1</td>\n",
       "      <td>1</td>\n",
       "    </tr>\n",
       "  </tbody>\n",
       "</table>\n",
       "</div>"
      ],
      "text/plain": [
       "        Date        SKU_mkt  Brand ID  Units  PPC Orders PPC Cost  Organic  \\\n",
       "0 2017-01-01  MODLB01GR1_US         1      1           1  ($7.30)        0   \n",
       "1 2017-01-01     MODSSBL_US         1      9           0  ($6.83)        9   \n",
       "2 2017-01-01  MODLB01GR2_US         1      8           1  ($1.31)        7   \n",
       "\n",
       "   Processed_PPC Cost  Year  Month  Day  \n",
       "0                7.30  2017      1    1  \n",
       "1                6.83  2017      1    1  \n",
       "2                1.31  2017      1    1  "
      ]
     },
     "execution_count": 14,
     "metadata": {},
     "output_type": "execute_result"
    }
   ],
   "source": [
    "data = data[data['Organic'] >= 0].reset_index(drop=True)\n",
    "print(data.shape)\n",
    "data.head(3)"
   ]
  },
  {
   "cell_type": "code",
   "execution_count": 15,
   "metadata": {
    "scrolled": true
   },
   "outputs": [
    {
     "data": {
      "text/html": [
       "<div>\n",
       "<style scoped>\n",
       "    .dataframe tbody tr th:only-of-type {\n",
       "        vertical-align: middle;\n",
       "    }\n",
       "\n",
       "    .dataframe tbody tr th {\n",
       "        vertical-align: top;\n",
       "    }\n",
       "\n",
       "    .dataframe thead th {\n",
       "        text-align: right;\n",
       "    }\n",
       "</style>\n",
       "<table border=\"1\" class=\"dataframe\">\n",
       "  <thead>\n",
       "    <tr style=\"text-align: right;\">\n",
       "      <th></th>\n",
       "      <th>Brand ID</th>\n",
       "      <th>Units</th>\n",
       "      <th>PPC Orders</th>\n",
       "      <th>Organic</th>\n",
       "      <th>Processed_PPC Cost</th>\n",
       "      <th>Year</th>\n",
       "      <th>Month</th>\n",
       "      <th>Day</th>\n",
       "    </tr>\n",
       "  </thead>\n",
       "  <tbody>\n",
       "    <tr>\n",
       "      <th>count</th>\n",
       "      <td>261510.000000</td>\n",
       "      <td>261510.000000</td>\n",
       "      <td>261510.000000</td>\n",
       "      <td>261510.000000</td>\n",
       "      <td>261510.000000</td>\n",
       "      <td>261510.000000</td>\n",
       "      <td>261510.000000</td>\n",
       "      <td>261510.000000</td>\n",
       "    </tr>\n",
       "    <tr>\n",
       "      <th>mean</th>\n",
       "      <td>13.376483</td>\n",
       "      <td>20.986612</td>\n",
       "      <td>2.456545</td>\n",
       "      <td>18.530068</td>\n",
       "      <td>18.985815</td>\n",
       "      <td>2018.358545</td>\n",
       "      <td>6.947662</td>\n",
       "      <td>15.702233</td>\n",
       "    </tr>\n",
       "    <tr>\n",
       "      <th>std</th>\n",
       "      <td>11.505150</td>\n",
       "      <td>48.882933</td>\n",
       "      <td>11.164385</td>\n",
       "      <td>43.396738</td>\n",
       "      <td>90.139766</td>\n",
       "      <td>0.739918</td>\n",
       "      <td>3.459448</td>\n",
       "      <td>8.812994</td>\n",
       "    </tr>\n",
       "    <tr>\n",
       "      <th>min</th>\n",
       "      <td>1.000000</td>\n",
       "      <td>0.000000</td>\n",
       "      <td>0.000000</td>\n",
       "      <td>0.000000</td>\n",
       "      <td>0.000000</td>\n",
       "      <td>2017.000000</td>\n",
       "      <td>1.000000</td>\n",
       "      <td>1.000000</td>\n",
       "    </tr>\n",
       "    <tr>\n",
       "      <th>25%</th>\n",
       "      <td>5.000000</td>\n",
       "      <td>2.000000</td>\n",
       "      <td>0.000000</td>\n",
       "      <td>2.000000</td>\n",
       "      <td>0.000000</td>\n",
       "      <td>2018.000000</td>\n",
       "      <td>4.000000</td>\n",
       "      <td>8.000000</td>\n",
       "    </tr>\n",
       "    <tr>\n",
       "      <th>50%</th>\n",
       "      <td>11.000000</td>\n",
       "      <td>7.000000</td>\n",
       "      <td>0.000000</td>\n",
       "      <td>6.000000</td>\n",
       "      <td>0.000000</td>\n",
       "      <td>2018.000000</td>\n",
       "      <td>7.000000</td>\n",
       "      <td>16.000000</td>\n",
       "    </tr>\n",
       "    <tr>\n",
       "      <th>75%</th>\n",
       "      <td>18.000000</td>\n",
       "      <td>21.000000</td>\n",
       "      <td>0.000000</td>\n",
       "      <td>18.000000</td>\n",
       "      <td>4.690000</td>\n",
       "      <td>2019.000000</td>\n",
       "      <td>10.000000</td>\n",
       "      <td>23.000000</td>\n",
       "    </tr>\n",
       "    <tr>\n",
       "      <th>max</th>\n",
       "      <td>50.000000</td>\n",
       "      <td>6947.000000</td>\n",
       "      <td>937.000000</td>\n",
       "      <td>6947.000000</td>\n",
       "      <td>6052.670000</td>\n",
       "      <td>2020.000000</td>\n",
       "      <td>12.000000</td>\n",
       "      <td>31.000000</td>\n",
       "    </tr>\n",
       "  </tbody>\n",
       "</table>\n",
       "</div>"
      ],
      "text/plain": [
       "            Brand ID          Units     PPC Orders        Organic  \\\n",
       "count  261510.000000  261510.000000  261510.000000  261510.000000   \n",
       "mean       13.376483      20.986612       2.456545      18.530068   \n",
       "std        11.505150      48.882933      11.164385      43.396738   \n",
       "min         1.000000       0.000000       0.000000       0.000000   \n",
       "25%         5.000000       2.000000       0.000000       2.000000   \n",
       "50%        11.000000       7.000000       0.000000       6.000000   \n",
       "75%        18.000000      21.000000       0.000000      18.000000   \n",
       "max        50.000000    6947.000000     937.000000    6947.000000   \n",
       "\n",
       "       Processed_PPC Cost           Year          Month            Day  \n",
       "count       261510.000000  261510.000000  261510.000000  261510.000000  \n",
       "mean            18.985815    2018.358545       6.947662      15.702233  \n",
       "std             90.139766       0.739918       3.459448       8.812994  \n",
       "min              0.000000    2017.000000       1.000000       1.000000  \n",
       "25%              0.000000    2018.000000       4.000000       8.000000  \n",
       "50%              0.000000    2018.000000       7.000000      16.000000  \n",
       "75%              4.690000    2019.000000      10.000000      23.000000  \n",
       "max           6052.670000    2020.000000      12.000000      31.000000  "
      ]
     },
     "execution_count": 15,
     "metadata": {},
     "output_type": "execute_result"
    }
   ],
   "source": [
    "data.describe()"
   ]
  },
  {
   "cell_type": "code",
   "execution_count": 16,
   "metadata": {},
   "outputs": [
    {
     "data": {
      "text/plain": [
       "4964980.57"
      ]
     },
     "execution_count": 16,
     "metadata": {},
     "output_type": "execute_result"
    }
   ],
   "source": [
    "data['Processed_PPC Cost'].sum()"
   ]
  },
  {
   "cell_type": "markdown",
   "metadata": {},
   "source": [
    "### IV. Preparing dataset before applying forecasting techniques\n",
    "\n",
    "- As we saw earlier, our dataset consists of 50 unique brands. Each SKU belong to a unique brand has its own timeseries. However, for ensuring that we have enough dataset for our forecasts of each of these SKUs, we begin by handling our dataset in two ways:\n",
    "    1. Our first approach is to develop a dataset as a single timeseries, by summing up Units ordered & PPC Cost for all SKUs on a particular date. Though this may not be the best approach, it can be used to see the general ordering pattern over time. We can also see if there is any upward or downward trend in the units ordered, or if there's any seasonal jumps or plummets in the quantity of orders.\n",
    "    2. Another approach is to develop a dataset with timeseries for each unique Brand ID. In the sense of a business, an intuitive way is to think that a particular brand selling may be 10 or 15 different SKUs. And, that SKUs under the same brand are 'similar' in industry, features/products that they are selling, target the similar consumer base, could have similar marketing strategy and could have similar observations for PPC orders & costs.\n",
    "    3. Then we create training & test sets from each of these two datasets - a. combined timeseries & b. brand-wise timeseries for our forecast analysis. "
   ]
  },
  {
   "cell_type": "markdown",
   "metadata": {},
   "source": [
    "#### 1. Creating a combined timeseries over all SKUs & brands "
   ]
  },
  {
   "cell_type": "code",
   "execution_count": 17,
   "metadata": {},
   "outputs": [
    {
     "data": {
      "text/html": [
       "<div>\n",
       "<style scoped>\n",
       "    .dataframe tbody tr th:only-of-type {\n",
       "        vertical-align: middle;\n",
       "    }\n",
       "\n",
       "    .dataframe tbody tr th {\n",
       "        vertical-align: top;\n",
       "    }\n",
       "\n",
       "    .dataframe thead th {\n",
       "        text-align: right;\n",
       "    }\n",
       "</style>\n",
       "<table border=\"1\" class=\"dataframe\">\n",
       "  <thead>\n",
       "    <tr style=\"text-align: right;\">\n",
       "      <th></th>\n",
       "      <th>Date</th>\n",
       "      <th>Units</th>\n",
       "      <th>Processed_PPC Cost</th>\n",
       "      <th>Year</th>\n",
       "      <th>Month</th>\n",
       "      <th>Day</th>\n",
       "    </tr>\n",
       "  </thead>\n",
       "  <tbody>\n",
       "    <tr>\n",
       "      <th>0</th>\n",
       "      <td>2017-01-01</td>\n",
       "      <td>340</td>\n",
       "      <td>15.44</td>\n",
       "      <td>2017</td>\n",
       "      <td>1</td>\n",
       "      <td>1</td>\n",
       "    </tr>\n",
       "    <tr>\n",
       "      <th>1</th>\n",
       "      <td>2017-01-02</td>\n",
       "      <td>477</td>\n",
       "      <td>23.66</td>\n",
       "      <td>2017</td>\n",
       "      <td>1</td>\n",
       "      <td>2</td>\n",
       "    </tr>\n",
       "    <tr>\n",
       "      <th>2</th>\n",
       "      <td>2017-01-03</td>\n",
       "      <td>437</td>\n",
       "      <td>17.12</td>\n",
       "      <td>2017</td>\n",
       "      <td>1</td>\n",
       "      <td>3</td>\n",
       "    </tr>\n",
       "  </tbody>\n",
       "</table>\n",
       "</div>"
      ],
      "text/plain": [
       "        Date  Units  Processed_PPC Cost  Year  Month  Day\n",
       "0 2017-01-01    340               15.44  2017      1    1\n",
       "1 2017-01-02    477               23.66  2017      1    2\n",
       "2 2017-01-03    437               17.12  2017      1    3"
      ]
     },
     "execution_count": 17,
     "metadata": {},
     "output_type": "execute_result"
    }
   ],
   "source": [
    "combined_dataset = data.groupby(['Date'])['Units','Processed_PPC Cost'].sum().reset_index()\n",
    "combined_dataset['Year'] = combined_dataset['Date'].dt.year\n",
    "combined_dataset['Month'] = combined_dataset['Date'].dt.month\n",
    "combined_dataset['Day'] = combined_dataset['Date'].dt.day\n",
    "\n",
    "combined_dataset.head(3)"
   ]
  },
  {
   "cell_type": "code",
   "execution_count": 18,
   "metadata": {},
   "outputs": [],
   "source": [
    "combined_dataset = combined_dataset.sort_values(by='Date')"
   ]
  },
  {
   "cell_type": "markdown",
   "metadata": {},
   "source": [
    "#### 2. Creating a brand-wise timeseries over all SKUs belonging to that brand"
   ]
  },
  {
   "cell_type": "code",
   "execution_count": 19,
   "metadata": {},
   "outputs": [
    {
     "name": "stdout",
     "output_type": "stream",
     "text": [
      "Total number of items in this dataset is: 50  which is the number of unique Brand IDs in our dataset\n"
     ]
    }
   ],
   "source": [
    "def prepare_brand_dataset(input_df):\n",
    "    brand_df = input_df.groupby(['Brand ID','Date'])[['Units','Processed_PPC Cost']].sum().reset_index()\n",
    "    brand_df['Year'] = brand_df['Date'].dt.year\n",
    "    brand_df['Month'] = brand_df['Date'].dt.month\n",
    "    brand_df['Day'] = brand_df['Date'].dt.day\n",
    "    dataset = {}\n",
    "    for id in brand_df['Brand ID'].unique():\n",
    "        dataset[id] = brand_df[brand_df['Brand ID'] == id][['Date','Year','Month','Day','Units','Processed_PPC Cost']]\n",
    "    return dataset\n",
    "\n",
    "brands_dataset = prepare_brand_dataset(data)\n",
    "print(\"Total number of items in this dataset is:\",len(brands_dataset),\" which is the number of unique Brand IDs in our dataset\")"
   ]
  },
  {
   "cell_type": "code",
   "execution_count": 20,
   "metadata": {},
   "outputs": [
    {
     "data": {
      "text/html": [
       "<div>\n",
       "<style scoped>\n",
       "    .dataframe tbody tr th:only-of-type {\n",
       "        vertical-align: middle;\n",
       "    }\n",
       "\n",
       "    .dataframe tbody tr th {\n",
       "        vertical-align: top;\n",
       "    }\n",
       "\n",
       "    .dataframe thead th {\n",
       "        text-align: right;\n",
       "    }\n",
       "</style>\n",
       "<table border=\"1\" class=\"dataframe\">\n",
       "  <thead>\n",
       "    <tr style=\"text-align: right;\">\n",
       "      <th></th>\n",
       "      <th>Date</th>\n",
       "      <th>Year</th>\n",
       "      <th>Month</th>\n",
       "      <th>Day</th>\n",
       "      <th>Units</th>\n",
       "      <th>Processed_PPC Cost</th>\n",
       "    </tr>\n",
       "  </thead>\n",
       "  <tbody>\n",
       "    <tr>\n",
       "      <th>1097</th>\n",
       "      <td>2020-01-08</td>\n",
       "      <td>2020</td>\n",
       "      <td>1</td>\n",
       "      <td>8</td>\n",
       "      <td>30</td>\n",
       "      <td>14.49</td>\n",
       "    </tr>\n",
       "    <tr>\n",
       "      <th>1098</th>\n",
       "      <td>2020-01-09</td>\n",
       "      <td>2020</td>\n",
       "      <td>1</td>\n",
       "      <td>9</td>\n",
       "      <td>36</td>\n",
       "      <td>18.10</td>\n",
       "    </tr>\n",
       "    <tr>\n",
       "      <th>1099</th>\n",
       "      <td>2020-01-10</td>\n",
       "      <td>2020</td>\n",
       "      <td>1</td>\n",
       "      <td>10</td>\n",
       "      <td>27</td>\n",
       "      <td>6.36</td>\n",
       "    </tr>\n",
       "    <tr>\n",
       "      <th>1100</th>\n",
       "      <td>2020-01-11</td>\n",
       "      <td>2020</td>\n",
       "      <td>1</td>\n",
       "      <td>11</td>\n",
       "      <td>15</td>\n",
       "      <td>7.35</td>\n",
       "    </tr>\n",
       "    <tr>\n",
       "      <th>1101</th>\n",
       "      <td>2020-01-12</td>\n",
       "      <td>2020</td>\n",
       "      <td>1</td>\n",
       "      <td>12</td>\n",
       "      <td>16</td>\n",
       "      <td>0.00</td>\n",
       "    </tr>\n",
       "  </tbody>\n",
       "</table>\n",
       "</div>"
      ],
      "text/plain": [
       "           Date  Year  Month  Day  Units  Processed_PPC Cost\n",
       "1097 2020-01-08  2020      1    8     30               14.49\n",
       "1098 2020-01-09  2020      1    9     36               18.10\n",
       "1099 2020-01-10  2020      1   10     27                6.36\n",
       "1100 2020-01-11  2020      1   11     15                7.35\n",
       "1101 2020-01-12  2020      1   12     16                0.00"
      ]
     },
     "execution_count": 20,
     "metadata": {},
     "output_type": "execute_result"
    }
   ],
   "source": [
    "# For Brand ID = 1, few records from the dataframe\n",
    "brands_dataset.get(1).tail()"
   ]
  },
  {
   "cell_type": "markdown",
   "metadata": {},
   "source": [
    "#### 3. Train-test split into 90:10"
   ]
  },
  {
   "cell_type": "markdown",
   "metadata": {},
   "source": [
    "##### a. combined dataset"
   ]
  },
  {
   "cell_type": "code",
   "execution_count": 21,
   "metadata": {},
   "outputs": [
    {
     "data": {
      "text/html": [
       "<div>\n",
       "<style scoped>\n",
       "    .dataframe tbody tr th:only-of-type {\n",
       "        vertical-align: middle;\n",
       "    }\n",
       "\n",
       "    .dataframe tbody tr th {\n",
       "        vertical-align: top;\n",
       "    }\n",
       "\n",
       "    .dataframe thead th {\n",
       "        text-align: right;\n",
       "    }\n",
       "</style>\n",
       "<table border=\"1\" class=\"dataframe\">\n",
       "  <thead>\n",
       "    <tr style=\"text-align: right;\">\n",
       "      <th></th>\n",
       "      <th>Date</th>\n",
       "      <th>Units</th>\n",
       "      <th>Processed_PPC Cost</th>\n",
       "      <th>Year</th>\n",
       "      <th>Month</th>\n",
       "      <th>Day</th>\n",
       "    </tr>\n",
       "  </thead>\n",
       "  <tbody>\n",
       "    <tr>\n",
       "      <th>993</th>\n",
       "      <td>2019-09-21</td>\n",
       "      <td>6434</td>\n",
       "      <td>14046.42</td>\n",
       "      <td>2019</td>\n",
       "      <td>9</td>\n",
       "      <td>21</td>\n",
       "    </tr>\n",
       "    <tr>\n",
       "      <th>994</th>\n",
       "      <td>2019-09-22</td>\n",
       "      <td>8429</td>\n",
       "      <td>17182.75</td>\n",
       "      <td>2019</td>\n",
       "      <td>9</td>\n",
       "      <td>22</td>\n",
       "    </tr>\n",
       "    <tr>\n",
       "      <th>995</th>\n",
       "      <td>2019-09-23</td>\n",
       "      <td>8365</td>\n",
       "      <td>14646.92</td>\n",
       "      <td>2019</td>\n",
       "      <td>9</td>\n",
       "      <td>23</td>\n",
       "    </tr>\n",
       "  </tbody>\n",
       "</table>\n",
       "</div>"
      ],
      "text/plain": [
       "          Date  Units  Processed_PPC Cost  Year  Month  Day\n",
       "993 2019-09-21   6434            14046.42  2019      9   21\n",
       "994 2019-09-22   8429            17182.75  2019      9   22\n",
       "995 2019-09-23   8365            14646.92  2019      9   23"
      ]
     },
     "execution_count": 21,
     "metadata": {},
     "output_type": "execute_result"
    }
   ],
   "source": [
    "combined_train_set, combined_test_set = np.split(combined_dataset, [int(0.90 * len(combined_dataset))])\n",
    "combined_train_set.tail(3)"
   ]
  },
  {
   "cell_type": "code",
   "execution_count": 22,
   "metadata": {},
   "outputs": [
    {
     "data": {
      "text/html": [
       "<div>\n",
       "<style scoped>\n",
       "    .dataframe tbody tr th:only-of-type {\n",
       "        vertical-align: middle;\n",
       "    }\n",
       "\n",
       "    .dataframe tbody tr th {\n",
       "        vertical-align: top;\n",
       "    }\n",
       "\n",
       "    .dataframe thead th {\n",
       "        text-align: right;\n",
       "    }\n",
       "</style>\n",
       "<table border=\"1\" class=\"dataframe\">\n",
       "  <thead>\n",
       "    <tr style=\"text-align: right;\">\n",
       "      <th></th>\n",
       "      <th>Date</th>\n",
       "      <th>Units</th>\n",
       "      <th>Processed_PPC Cost</th>\n",
       "      <th>Year</th>\n",
       "      <th>Month</th>\n",
       "      <th>Day</th>\n",
       "    </tr>\n",
       "  </thead>\n",
       "  <tbody>\n",
       "    <tr>\n",
       "      <th>996</th>\n",
       "      <td>2019-09-24</td>\n",
       "      <td>8259</td>\n",
       "      <td>14770.16</td>\n",
       "      <td>2019</td>\n",
       "      <td>9</td>\n",
       "      <td>24</td>\n",
       "    </tr>\n",
       "    <tr>\n",
       "      <th>997</th>\n",
       "      <td>2019-09-25</td>\n",
       "      <td>8018</td>\n",
       "      <td>12982.28</td>\n",
       "      <td>2019</td>\n",
       "      <td>9</td>\n",
       "      <td>25</td>\n",
       "    </tr>\n",
       "    <tr>\n",
       "      <th>998</th>\n",
       "      <td>2019-09-26</td>\n",
       "      <td>7161</td>\n",
       "      <td>11119.98</td>\n",
       "      <td>2019</td>\n",
       "      <td>9</td>\n",
       "      <td>26</td>\n",
       "    </tr>\n",
       "  </tbody>\n",
       "</table>\n",
       "</div>"
      ],
      "text/plain": [
       "          Date  Units  Processed_PPC Cost  Year  Month  Day\n",
       "996 2019-09-24   8259            14770.16  2019      9   24\n",
       "997 2019-09-25   8018            12982.28  2019      9   25\n",
       "998 2019-09-26   7161            11119.98  2019      9   26"
      ]
     },
     "execution_count": 22,
     "metadata": {},
     "output_type": "execute_result"
    }
   ],
   "source": [
    "combined_test_set.head(3)"
   ]
  },
  {
   "cell_type": "code",
   "execution_count": 23,
   "metadata": {},
   "outputs": [
    {
     "data": {
      "text/plain": [
       "(111, 6)"
      ]
     },
     "execution_count": 23,
     "metadata": {},
     "output_type": "execute_result"
    }
   ],
   "source": [
    "combined_test_set.shape"
   ]
  },
  {
   "cell_type": "markdown",
   "metadata": {},
   "source": [
    "This is such that we'll be making forecast for 111 days"
   ]
  },
  {
   "cell_type": "markdown",
   "metadata": {},
   "source": [
    "##### b. brand-wise dataset\n",
    "Here, we are creating train-test split such that for each Brand ID, the training set contains first 90% of the data ordered by date. And the remaining 90% is the test set. *It is important to split timeseries data into contiguous blocks for correct evaluation.* "
   ]
  },
  {
   "cell_type": "code",
   "execution_count": 24,
   "metadata": {},
   "outputs": [
    {
     "data": {
      "text/html": [
       "<div>\n",
       "<style scoped>\n",
       "    .dataframe tbody tr th:only-of-type {\n",
       "        vertical-align: middle;\n",
       "    }\n",
       "\n",
       "    .dataframe tbody tr th {\n",
       "        vertical-align: top;\n",
       "    }\n",
       "\n",
       "    .dataframe thead th {\n",
       "        text-align: right;\n",
       "    }\n",
       "</style>\n",
       "<table border=\"1\" class=\"dataframe\">\n",
       "  <thead>\n",
       "    <tr style=\"text-align: right;\">\n",
       "      <th></th>\n",
       "      <th>Date</th>\n",
       "      <th>Year</th>\n",
       "      <th>Month</th>\n",
       "      <th>Day</th>\n",
       "      <th>Units</th>\n",
       "      <th>Processed_PPC Cost</th>\n",
       "    </tr>\n",
       "  </thead>\n",
       "  <tbody>\n",
       "    <tr>\n",
       "      <th>986</th>\n",
       "      <td>2019-09-19</td>\n",
       "      <td>2019</td>\n",
       "      <td>9</td>\n",
       "      <td>19</td>\n",
       "      <td>88</td>\n",
       "      <td>82.54</td>\n",
       "    </tr>\n",
       "    <tr>\n",
       "      <th>987</th>\n",
       "      <td>2019-09-20</td>\n",
       "      <td>2019</td>\n",
       "      <td>9</td>\n",
       "      <td>20</td>\n",
       "      <td>50</td>\n",
       "      <td>90.45</td>\n",
       "    </tr>\n",
       "    <tr>\n",
       "      <th>988</th>\n",
       "      <td>2019-09-21</td>\n",
       "      <td>2019</td>\n",
       "      <td>9</td>\n",
       "      <td>21</td>\n",
       "      <td>58</td>\n",
       "      <td>86.33</td>\n",
       "    </tr>\n",
       "    <tr>\n",
       "      <th>989</th>\n",
       "      <td>2019-09-22</td>\n",
       "      <td>2019</td>\n",
       "      <td>9</td>\n",
       "      <td>22</td>\n",
       "      <td>37</td>\n",
       "      <td>112.09</td>\n",
       "    </tr>\n",
       "    <tr>\n",
       "      <th>990</th>\n",
       "      <td>2019-09-23</td>\n",
       "      <td>2019</td>\n",
       "      <td>9</td>\n",
       "      <td>23</td>\n",
       "      <td>22</td>\n",
       "      <td>81.57</td>\n",
       "    </tr>\n",
       "  </tbody>\n",
       "</table>\n",
       "</div>"
      ],
      "text/plain": [
       "          Date  Year  Month  Day  Units  Processed_PPC Cost\n",
       "986 2019-09-19  2019      9   19     88               82.54\n",
       "987 2019-09-20  2019      9   20     50               90.45\n",
       "988 2019-09-21  2019      9   21     58               86.33\n",
       "989 2019-09-22  2019      9   22     37              112.09\n",
       "990 2019-09-23  2019      9   23     22               81.57"
      ]
     },
     "execution_count": 24,
     "metadata": {},
     "output_type": "execute_result"
    }
   ],
   "source": [
    "def split_train_test(input_dataset):\n",
    "    train_set = {}\n",
    "    test_set = {}\n",
    "    for k, v in input_dataset.items():\n",
    "        train_set[k], test_set[k] = np.split(v, [int(0.90 * len(v))])\n",
    "    return train_set, test_set\n",
    "\n",
    "brands_train_set, brands_test_set = split_train_test(brands_dataset)\n",
    "brands_train_set.get(1).tail()"
   ]
  },
  {
   "cell_type": "code",
   "execution_count": 25,
   "metadata": {},
   "outputs": [
    {
     "data": {
      "text/html": [
       "<div>\n",
       "<style scoped>\n",
       "    .dataframe tbody tr th:only-of-type {\n",
       "        vertical-align: middle;\n",
       "    }\n",
       "\n",
       "    .dataframe tbody tr th {\n",
       "        vertical-align: top;\n",
       "    }\n",
       "\n",
       "    .dataframe thead th {\n",
       "        text-align: right;\n",
       "    }\n",
       "</style>\n",
       "<table border=\"1\" class=\"dataframe\">\n",
       "  <thead>\n",
       "    <tr style=\"text-align: right;\">\n",
       "      <th></th>\n",
       "      <th>Date</th>\n",
       "      <th>Year</th>\n",
       "      <th>Month</th>\n",
       "      <th>Day</th>\n",
       "      <th>Units</th>\n",
       "      <th>Processed_PPC Cost</th>\n",
       "    </tr>\n",
       "  </thead>\n",
       "  <tbody>\n",
       "    <tr>\n",
       "      <th>991</th>\n",
       "      <td>2019-09-24</td>\n",
       "      <td>2019</td>\n",
       "      <td>9</td>\n",
       "      <td>24</td>\n",
       "      <td>41</td>\n",
       "      <td>71.09</td>\n",
       "    </tr>\n",
       "    <tr>\n",
       "      <th>992</th>\n",
       "      <td>2019-09-25</td>\n",
       "      <td>2019</td>\n",
       "      <td>9</td>\n",
       "      <td>25</td>\n",
       "      <td>36</td>\n",
       "      <td>81.07</td>\n",
       "    </tr>\n",
       "    <tr>\n",
       "      <th>993</th>\n",
       "      <td>2019-09-26</td>\n",
       "      <td>2019</td>\n",
       "      <td>9</td>\n",
       "      <td>26</td>\n",
       "      <td>27</td>\n",
       "      <td>110.86</td>\n",
       "    </tr>\n",
       "    <tr>\n",
       "      <th>994</th>\n",
       "      <td>2019-09-27</td>\n",
       "      <td>2019</td>\n",
       "      <td>9</td>\n",
       "      <td>27</td>\n",
       "      <td>23</td>\n",
       "      <td>100.82</td>\n",
       "    </tr>\n",
       "    <tr>\n",
       "      <th>995</th>\n",
       "      <td>2019-09-28</td>\n",
       "      <td>2019</td>\n",
       "      <td>9</td>\n",
       "      <td>28</td>\n",
       "      <td>19</td>\n",
       "      <td>108.78</td>\n",
       "    </tr>\n",
       "  </tbody>\n",
       "</table>\n",
       "</div>"
      ],
      "text/plain": [
       "          Date  Year  Month  Day  Units  Processed_PPC Cost\n",
       "991 2019-09-24  2019      9   24     41               71.09\n",
       "992 2019-09-25  2019      9   25     36               81.07\n",
       "993 2019-09-26  2019      9   26     27              110.86\n",
       "994 2019-09-27  2019      9   27     23              100.82\n",
       "995 2019-09-28  2019      9   28     19              108.78"
      ]
     },
     "execution_count": 25,
     "metadata": {},
     "output_type": "execute_result"
    }
   ],
   "source": [
    "brands_test_set.get(1).head()"
   ]
  },
  {
   "cell_type": "markdown",
   "metadata": {},
   "source": [
    "We can see that this method has correctly split the dataset in a continuous manner which is useful for forecasting."
   ]
  },
  {
   "cell_type": "markdown",
   "metadata": {},
   "source": [
    "### V. Evaluate results using RMSE\n",
    "\n",
    "- Mean Squared Error (MSE) is a metric which is commonly used to measure how well our predictions are in comparison with the actual values. \n",
    "- MSE = 1/n * (SUM_over_n(true_value - predicted_value)^2)\n",
    "- Root MSE(RMSE) is given by taking square root of the MSE. We will be using this because this will give us errors in the same range as that of true values for easier interpretation."
   ]
  },
  {
   "cell_type": "code",
   "execution_count": 26,
   "metadata": {},
   "outputs": [],
   "source": [
    "def calculate_rmse(actual_test, predict_test):\n",
    "    rmse = np.round(np.sqrt(mean_squared_error(actual_test,predict_test)),2)\n",
    "    return rmse"
   ]
  },
  {
   "cell_type": "markdown",
   "metadata": {},
   "source": [
    "### V. Applying different techniques & models for generating forecasts for our test-set\n",
    "\n",
    "1. *Moving Average*: The most basic and important approach to generating foreacasts is to develop them from moving averages over a window (here it can be thought of as a period of some x days). This approach works such that it smooths the data to capture short-term fluctuations and focus on long-term trends in the data. Since our dataset consists of different brands, some with shorter and some with longer historical data, we here are keeping our window for moving average to be of 30 days.\n",
    "2. *Linear Regression*: Another approach which we will be implementing is a linear regression, because it is another one of the basic approaches for forecasting.\n",
    "3. *ARIMA*: Finally we will train our dataset using ARIMA (AutoRegressive Integrated Moving Average) which combines both characteristics from linear regression & moving averages."
   ]
  },
  {
   "cell_type": "markdown",
   "metadata": {},
   "source": [
    "### 1. Moving Average"
   ]
  },
  {
   "cell_type": "markdown",
   "metadata": {},
   "source": [
    "##### a. Over combined dataset"
   ]
  },
  {
   "cell_type": "code",
   "execution_count": 27,
   "metadata": {},
   "outputs": [
    {
     "data": {
      "text/html": [
       "<div>\n",
       "<style scoped>\n",
       "    .dataframe tbody tr th:only-of-type {\n",
       "        vertical-align: middle;\n",
       "    }\n",
       "\n",
       "    .dataframe tbody tr th {\n",
       "        vertical-align: top;\n",
       "    }\n",
       "\n",
       "    .dataframe thead th {\n",
       "        text-align: right;\n",
       "    }\n",
       "</style>\n",
       "<table border=\"1\" class=\"dataframe\">\n",
       "  <thead>\n",
       "    <tr style=\"text-align: right;\">\n",
       "      <th></th>\n",
       "      <th>test_index</th>\n",
       "      <th>predicted_units</th>\n",
       "    </tr>\n",
       "  </thead>\n",
       "  <tbody>\n",
       "    <tr>\n",
       "      <th>0</th>\n",
       "      <td>996</td>\n",
       "      <td>7691.466667</td>\n",
       "    </tr>\n",
       "    <tr>\n",
       "      <th>1</th>\n",
       "      <td>997</td>\n",
       "      <td>7685.633333</td>\n",
       "    </tr>\n",
       "    <tr>\n",
       "      <th>2</th>\n",
       "      <td>998</td>\n",
       "      <td>7656.733333</td>\n",
       "    </tr>\n",
       "    <tr>\n",
       "      <th>3</th>\n",
       "      <td>999</td>\n",
       "      <td>7617.966667</td>\n",
       "    </tr>\n",
       "    <tr>\n",
       "      <th>4</th>\n",
       "      <td>1000</td>\n",
       "      <td>7577.200000</td>\n",
       "    </tr>\n",
       "  </tbody>\n",
       "</table>\n",
       "</div>"
      ],
      "text/plain": [
       "   test_index  predicted_units\n",
       "0         996      7691.466667\n",
       "1         997      7685.633333\n",
       "2         998      7656.733333\n",
       "3         999      7617.966667\n",
       "4        1000      7577.200000"
      ]
     },
     "execution_count": 27,
     "metadata": {},
     "output_type": "execute_result"
    }
   ],
   "source": [
    "window = 30\n",
    "prev_from_train = combined_train_set.tail(window)\n",
    "traintest_combined_df = pd.concat([prev_from_train,combined_test_set], axis=0)\n",
    "# train_test_combined[id] = combined_df\n",
    "\n",
    "series = traintest_combined_df['Units']\n",
    "moving_averages_list = []\n",
    "test_indices = list(combined_test_set.index)\n",
    "for each in test_indices:\n",
    "    sum_units = np.sum(series[i] for i in range(each-window, each))\n",
    "    moving_averages = sum_units/window\n",
    "    moving_averages_list.append(moving_averages)\n",
    "\n",
    "\n",
    "test_predicted_ma = pd.DataFrame({'test_index':test_indices,'predicted_units':moving_averages_list})\n",
    "test_predicted_ma.head()"
   ]
  },
  {
   "cell_type": "code",
   "execution_count": 28,
   "metadata": {},
   "outputs": [
    {
     "data": {
      "text/plain": [
       "996     8259\n",
       "997     8018\n",
       "998     7161\n",
       "999     6654\n",
       "1000    6688\n",
       "Name: Units, dtype: int64"
      ]
     },
     "execution_count": 28,
     "metadata": {},
     "output_type": "execute_result"
    }
   ],
   "source": [
    "combined_test_set['Units'].head()"
   ]
  },
  {
   "cell_type": "code",
   "execution_count": 29,
   "metadata": {},
   "outputs": [
    {
     "data": {
      "text/plain": [
       "(4314, 26082)"
      ]
     },
     "execution_count": 29,
     "metadata": {},
     "output_type": "execute_result"
    }
   ],
   "source": [
    "combined_test_set['Units'].min(), combined_test_set['Units'].max()"
   ]
  },
  {
   "cell_type": "code",
   "execution_count": 30,
   "metadata": {},
   "outputs": [
    {
     "name": "stdout",
     "output_type": "stream",
     "text": [
      "The RMSE from moving average is:  3204.0  units\n"
     ]
    }
   ],
   "source": [
    "combined_moving_avg_rmse = calculate_rmse(combined_test_set['Units'],test_predicted_ma['predicted_units'])\n",
    "print(\"The RMSE from moving average is: \",np.round(combined_moving_avg_rmse,0), \" units\")"
   ]
  },
  {
   "cell_type": "markdown",
   "metadata": {},
   "source": [
    "##### b. Over brand-wise dataset"
   ]
  },
  {
   "cell_type": "code",
   "execution_count": 31,
   "metadata": {},
   "outputs": [],
   "source": [
    "def calculate_moving_average(train_set, test_set, window=30):\n",
    "    train_test_combined = {}\n",
    "    moving_average_predicted = {}\n",
    "    \n",
    "    \n",
    "    for id in train_set.keys():\n",
    "        prev_from_train = train_set.get(id).tail(window)\n",
    "        combined_df = pd.concat([prev_from_train,test_set.get(id)], axis=0)\n",
    "        train_test_combined[id] = combined_df\n",
    "\n",
    "        \n",
    "    for brand_id in train_test_combined.keys():\n",
    "        \n",
    "        test_index_values = test_set.get(brand_id).index\n",
    "        ma_test_df = pd.DataFrame(columns=['test_index','predicted_units'])\n",
    "        moving_averages_list = []\n",
    "        for each in test_index_values:\n",
    "            \n",
    "            series = train_test_combined.get(brand_id)['Units']\n",
    "            sum_units = np.sum(series[i] for i in range(each-window, each))\n",
    "            moving_averages = sum_units/window\n",
    "            moving_averages_list.append(moving_averages)\n",
    "            \n",
    "        ma_test_df['test_index'] = test_index_values\n",
    "        ma_test_df['predicted_units'] = moving_averages_list\n",
    "            \n",
    "        moving_average_predicted[brand_id] = ma_test_df\n",
    "        \n",
    "    return moving_average_predicted"
   ]
  },
  {
   "cell_type": "code",
   "execution_count": 32,
   "metadata": {},
   "outputs": [
    {
     "data": {
      "text/html": [
       "<div>\n",
       "<style scoped>\n",
       "    .dataframe tbody tr th:only-of-type {\n",
       "        vertical-align: middle;\n",
       "    }\n",
       "\n",
       "    .dataframe tbody tr th {\n",
       "        vertical-align: top;\n",
       "    }\n",
       "\n",
       "    .dataframe thead th {\n",
       "        text-align: right;\n",
       "    }\n",
       "</style>\n",
       "<table border=\"1\" class=\"dataframe\">\n",
       "  <thead>\n",
       "    <tr style=\"text-align: right;\">\n",
       "      <th></th>\n",
       "      <th>test_index</th>\n",
       "      <th>predicted_units</th>\n",
       "    </tr>\n",
       "  </thead>\n",
       "  <tbody>\n",
       "    <tr>\n",
       "      <th>0</th>\n",
       "      <td>3125</td>\n",
       "      <td>222.066667</td>\n",
       "    </tr>\n",
       "    <tr>\n",
       "      <th>1</th>\n",
       "      <td>3126</td>\n",
       "      <td>221.900000</td>\n",
       "    </tr>\n",
       "    <tr>\n",
       "      <th>2</th>\n",
       "      <td>3127</td>\n",
       "      <td>221.333333</td>\n",
       "    </tr>\n",
       "  </tbody>\n",
       "</table>\n",
       "</div>"
      ],
      "text/plain": [
       "   test_index  predicted_units\n",
       "0        3125       222.066667\n",
       "1        3126       221.900000\n",
       "2        3127       221.333333"
      ]
     },
     "execution_count": 32,
     "metadata": {},
     "output_type": "execute_result"
    }
   ],
   "source": [
    "brands_test_predicted_ma = calculate_moving_average(brands_train_set, brands_test_set)\n",
    "brands_test_predicted_ma.get(3).head(3)"
   ]
  },
  {
   "cell_type": "code",
   "execution_count": 33,
   "metadata": {},
   "outputs": [
    {
     "data": {
      "text/plain": [
       "3125    217\n",
       "3126    198\n",
       "3127    209\n",
       "Name: Units, dtype: int64"
      ]
     },
     "execution_count": 33,
     "metadata": {},
     "output_type": "execute_result"
    }
   ],
   "source": [
    "brands_test_set.get(3)['Units'].head(3)"
   ]
  },
  {
   "cell_type": "code",
   "execution_count": 34,
   "metadata": {},
   "outputs": [],
   "source": [
    "brands_moving_avg_rmse = {}\n",
    "for id in brands_test_set.keys():\n",
    "    actual_val = brands_test_set.get(id)['Units']\n",
    "    predict_val = brands_test_predicted_ma.get(id)['predicted_units']\n",
    "    brands_moving_avg_rmse[id] = calculate_rmse(actual_val,predict_val)\n"
   ]
  },
  {
   "cell_type": "code",
   "execution_count": 35,
   "metadata": {},
   "outputs": [
    {
     "name": "stdout",
     "output_type": "stream",
     "text": [
      "Brand ID 1 RMSE:  34.35\n",
      "Brand ID 1 min value:  9\n",
      "Brand ID 1 max value:  323\n"
     ]
    }
   ],
   "source": [
    "## For Brand ID:1 \n",
    "print(\"Brand ID 1 RMSE: \",brands_moving_avg_rmse.get(1))\n",
    "print(\"Brand ID 1 min value: \",brands_test_set.get(1)['Units'].min())\n",
    "print(\"Brand ID 1 max value: \",brands_test_set.get(1)['Units'].max())"
   ]
  },
  {
   "cell_type": "code",
   "execution_count": 36,
   "metadata": {},
   "outputs": [
    {
     "name": "stdout",
     "output_type": "stream",
     "text": [
      "Brand ID 20 RMSE:  12.89\n",
      "Brand ID 20 min value:  11\n",
      "Brand ID 20 max value:  75\n"
     ]
    }
   ],
   "source": [
    "## For Brand ID:20 \n",
    "print(\"Brand ID 20 RMSE: \",brands_moving_avg_rmse.get(20))\n",
    "print(\"Brand ID 20 min value: \",brands_test_set.get(20)['Units'].min())\n",
    "print(\"Brand ID 20 max value: \",brands_test_set.get(20)['Units'].max())"
   ]
  },
  {
   "cell_type": "code",
   "execution_count": 37,
   "metadata": {},
   "outputs": [
    {
     "name": "stdout",
     "output_type": "stream",
     "text": [
      "Brand ID 36 RMSE:  7.86\n",
      "Brand ID 36 min value:  4\n",
      "Brand ID 36 max value:  55\n"
     ]
    }
   ],
   "source": [
    "## For Brand ID:36\n",
    "print(\"Brand ID 36 RMSE: \",brands_moving_avg_rmse.get(36))\n",
    "print(\"Brand ID 36 min value: \",brands_test_set.get(36)['Units'].min())\n",
    "print(\"Brand ID 36 max value: \",brands_test_set.get(36)['Units'].max())"
   ]
  },
  {
   "cell_type": "markdown",
   "metadata": {},
   "source": [
    "### Inference from Moving Average:\n",
    "\n",
    "- We can see that RMSE by calculating Moving Average over the entire dataset is much higher than for brand-wise. The range of Units for different brands varies a lot, which causes the combined RMSE to be so high and RMSE also tends to penalizes large values a lot. This verifies our intuition that for different brands we would ideally need to train individual models. "
   ]
  },
  {
   "cell_type": "markdown",
   "metadata": {},
   "source": [
    "### 2. Linear Regression"
   ]
  },
  {
   "cell_type": "markdown",
   "metadata": {},
   "source": [
    "##### a. Over combined dataset"
   ]
  },
  {
   "cell_type": "code",
   "execution_count": 38,
   "metadata": {},
   "outputs": [],
   "source": [
    "train_data = combined_train_set\n",
    "train_X = train_data[['Year','Month','Day','Processed_PPC Cost']]\n",
    "train_y = train_data['Units']\n",
    "\n",
    "test_data = combined_test_set\n",
    "test_X = test_data[['Year','Month','Day','Processed_PPC Cost']]\n",
    "test_y = test_data['Units']\n",
    "\n",
    "ols_model = sm.OLS(train_y,train_X).fit()\n",
    "test_predicted_ols = ols_model.predict(test_X)\n"
   ]
  },
  {
   "cell_type": "code",
   "execution_count": 39,
   "metadata": {},
   "outputs": [
    {
     "data": {
      "text/plain": [
       "996     12043.293885\n",
       "997     11002.885049\n",
       "998      9919.402183\n",
       "999      9460.452248\n",
       "1000    10121.375021\n",
       "dtype: float64"
      ]
     },
     "execution_count": 39,
     "metadata": {},
     "output_type": "execute_result"
    }
   ],
   "source": [
    "test_predicted_ols.head()"
   ]
  },
  {
   "cell_type": "code",
   "execution_count": 40,
   "metadata": {},
   "outputs": [
    {
     "data": {
      "text/html": [
       "<table class=\"simpletable\">\n",
       "<caption>OLS Regression Results</caption>\n",
       "<tr>\n",
       "  <th>Dep. Variable:</th>          <td>Units</td>      <th>  R-squared:         </th> <td>   0.881</td> \n",
       "</tr>\n",
       "<tr>\n",
       "  <th>Model:</th>                   <td>OLS</td>       <th>  Adj. R-squared:    </th> <td>   0.880</td> \n",
       "</tr>\n",
       "<tr>\n",
       "  <th>Method:</th>             <td>Least Squares</td>  <th>  F-statistic:       </th> <td>   1830.</td> \n",
       "</tr>\n",
       "<tr>\n",
       "  <th>Date:</th>             <td>Mon, 17 Feb 2020</td> <th>  Prob (F-statistic):</th>  <td>  0.00</td>  \n",
       "</tr>\n",
       "<tr>\n",
       "  <th>Time:</th>                 <td>14:54:20</td>     <th>  Log-Likelihood:    </th> <td> -8899.5</td> \n",
       "</tr>\n",
       "<tr>\n",
       "  <th>No. Observations:</th>      <td>   996</td>      <th>  AIC:               </th> <td>1.781e+04</td>\n",
       "</tr>\n",
       "<tr>\n",
       "  <th>Df Residuals:</th>          <td>   992</td>      <th>  BIC:               </th> <td>1.783e+04</td>\n",
       "</tr>\n",
       "<tr>\n",
       "  <th>Df Model:</th>              <td>     4</td>      <th>                     </th>     <td> </td>    \n",
       "</tr>\n",
       "<tr>\n",
       "  <th>Covariance Type:</th>      <td>nonrobust</td>    <th>                     </th>     <td> </td>    \n",
       "</tr>\n",
       "</table>\n",
       "<table class=\"simpletable\">\n",
       "<tr>\n",
       "           <td></td>             <th>coef</th>     <th>std err</th>      <th>t</th>      <th>P>|t|</th>  <th>[0.025</th>    <th>0.975]</th>  \n",
       "</tr>\n",
       "<tr>\n",
       "  <th>Year</th>               <td>    1.0075</td> <td>    0.082</td> <td>   12.356</td> <td> 0.000</td> <td>    0.847</td> <td>    1.167</td>\n",
       "</tr>\n",
       "<tr>\n",
       "  <th>Month</th>              <td>  177.1654</td> <td>   17.684</td> <td>   10.018</td> <td> 0.000</td> <td>  142.463</td> <td>  211.868</td>\n",
       "</tr>\n",
       "<tr>\n",
       "  <th>Day</th>                <td>   -5.5903</td> <td>    6.655</td> <td>   -0.840</td> <td> 0.401</td> <td>  -18.650</td> <td>    7.469</td>\n",
       "</tr>\n",
       "<tr>\n",
       "  <th>Processed_PPC Cost</th> <td>    0.5788</td> <td>    0.017</td> <td>   33.331</td> <td> 0.000</td> <td>    0.545</td> <td>    0.613</td>\n",
       "</tr>\n",
       "</table>\n",
       "<table class=\"simpletable\">\n",
       "<tr>\n",
       "  <th>Omnibus:</th>       <td>223.914</td> <th>  Durbin-Watson:     </th> <td>   0.270</td> \n",
       "</tr>\n",
       "<tr>\n",
       "  <th>Prob(Omnibus):</th> <td> 0.000</td>  <th>  Jarque-Bera (JB):  </th> <td> 746.123</td> \n",
       "</tr>\n",
       "<tr>\n",
       "  <th>Skew:</th>          <td> 1.073</td>  <th>  Prob(JB):          </th> <td>9.58e-163</td>\n",
       "</tr>\n",
       "<tr>\n",
       "  <th>Kurtosis:</th>      <td> 6.657</td>  <th>  Cond. No.          </th> <td>1.35e+03</td> \n",
       "</tr>\n",
       "</table><br/><br/>Warnings:<br/>[1] Standard Errors assume that the covariance matrix of the errors is correctly specified.<br/>[2] The condition number is large, 1.35e+03. This might indicate that there are<br/>strong multicollinearity or other numerical problems."
      ],
      "text/plain": [
       "<class 'statsmodels.iolib.summary.Summary'>\n",
       "\"\"\"\n",
       "                            OLS Regression Results                            \n",
       "==============================================================================\n",
       "Dep. Variable:                  Units   R-squared:                       0.881\n",
       "Model:                            OLS   Adj. R-squared:                  0.880\n",
       "Method:                 Least Squares   F-statistic:                     1830.\n",
       "Date:                Mon, 17 Feb 2020   Prob (F-statistic):               0.00\n",
       "Time:                        14:54:20   Log-Likelihood:                -8899.5\n",
       "No. Observations:                 996   AIC:                         1.781e+04\n",
       "Df Residuals:                     992   BIC:                         1.783e+04\n",
       "Df Model:                           4                                         \n",
       "Covariance Type:            nonrobust                                         \n",
       "======================================================================================\n",
       "                         coef    std err          t      P>|t|      [0.025      0.975]\n",
       "--------------------------------------------------------------------------------------\n",
       "Year                   1.0075      0.082     12.356      0.000       0.847       1.167\n",
       "Month                177.1654     17.684     10.018      0.000     142.463     211.868\n",
       "Day                   -5.5903      6.655     -0.840      0.401     -18.650       7.469\n",
       "Processed_PPC Cost     0.5788      0.017     33.331      0.000       0.545       0.613\n",
       "==============================================================================\n",
       "Omnibus:                      223.914   Durbin-Watson:                   0.270\n",
       "Prob(Omnibus):                  0.000   Jarque-Bera (JB):              746.123\n",
       "Skew:                           1.073   Prob(JB):                    9.58e-163\n",
       "Kurtosis:                       6.657   Cond. No.                     1.35e+03\n",
       "==============================================================================\n",
       "\n",
       "Warnings:\n",
       "[1] Standard Errors assume that the covariance matrix of the errors is correctly specified.\n",
       "[2] The condition number is large, 1.35e+03. This might indicate that there are\n",
       "strong multicollinearity or other numerical problems.\n",
       "\"\"\""
      ]
     },
     "execution_count": 40,
     "metadata": {},
     "output_type": "execute_result"
    }
   ],
   "source": [
    "ols_model.summary()"
   ]
  },
  {
   "cell_type": "code",
   "execution_count": 41,
   "metadata": {},
   "outputs": [
    {
     "name": "stdout",
     "output_type": "stream",
     "text": [
      "The RMSE from Linear Regression is:  8180.0  units\n"
     ]
    }
   ],
   "source": [
    "combined_ols_rmse = calculate_rmse(combined_test_set['Units'],test_predicted_ols)\n",
    "print(\"The RMSE from Linear Regression is: \",np.round(combined_ols_rmse,0), \" units\")"
   ]
  },
  {
   "cell_type": "markdown",
   "metadata": {},
   "source": [
    "##### b. Over brand-wise dataset"
   ]
  },
  {
   "cell_type": "code",
   "execution_count": 42,
   "metadata": {},
   "outputs": [],
   "source": [
    "predictions = {}\n",
    "summary = {}\n",
    "ppc_pvalues = {}\n",
    "for id in brands_train_set.keys():\n",
    "\n",
    "    train_data = brands_train_set.get(id)\n",
    "    train_X = train_data[['Year','Month','Day','Processed_PPC Cost']]\n",
    "    train_y = train_data['Units']\n",
    "\n",
    "    test_data = brands_test_set.get(id)\n",
    "    test_X = test_data[['Year','Month','Day','Processed_PPC Cost']]\n",
    "    test_y = test_data['Units']\n",
    "\n",
    "    model = sm.OLS(train_y,train_X).fit()\n",
    "    test_predictions = model.predict(test_X)\n",
    "    predictions[id] = test_predictions\n",
    "    summary[id] = model.summary()\n",
    "    ppc_pvalues[id] = model.pvalues['Processed_PPC Cost']"
   ]
  },
  {
   "cell_type": "code",
   "execution_count": 43,
   "metadata": {},
   "outputs": [
    {
     "data": {
      "text/plain": [
       "991    25.893855\n",
       "992    26.979101\n",
       "993    30.591355\n",
       "994    29.122804\n",
       "995    29.950374\n",
       "dtype: float64"
      ]
     },
     "execution_count": 43,
     "metadata": {},
     "output_type": "execute_result"
    }
   ],
   "source": [
    "predictions.get(1).head(5)"
   ]
  },
  {
   "cell_type": "code",
   "execution_count": 44,
   "metadata": {},
   "outputs": [
    {
     "data": {
      "text/html": [
       "<table class=\"simpletable\">\n",
       "<caption>OLS Regression Results</caption>\n",
       "<tr>\n",
       "  <th>Dep. Variable:</th>          <td>Units</td>      <th>  R-squared:         </th> <td>   0.593</td> \n",
       "</tr>\n",
       "<tr>\n",
       "  <th>Model:</th>                   <td>OLS</td>       <th>  Adj. R-squared:    </th> <td>   0.592</td> \n",
       "</tr>\n",
       "<tr>\n",
       "  <th>Method:</th>             <td>Least Squares</td>  <th>  F-statistic:       </th> <td>   360.2</td> \n",
       "</tr>\n",
       "<tr>\n",
       "  <th>Date:</th>             <td>Mon, 17 Feb 2020</td> <th>  Prob (F-statistic):</th> <td>3.61e-191</td>\n",
       "</tr>\n",
       "<tr>\n",
       "  <th>Time:</th>                 <td>14:54:20</td>     <th>  Log-Likelihood:    </th> <td> -4377.0</td> \n",
       "</tr>\n",
       "<tr>\n",
       "  <th>No. Observations:</th>      <td>   991</td>      <th>  AIC:               </th> <td>   8762.</td> \n",
       "</tr>\n",
       "<tr>\n",
       "  <th>Df Residuals:</th>          <td>   987</td>      <th>  BIC:               </th> <td>   8782.</td> \n",
       "</tr>\n",
       "<tr>\n",
       "  <th>Df Model:</th>              <td>     4</td>      <th>                     </th>     <td> </td>    \n",
       "</tr>\n",
       "<tr>\n",
       "  <th>Covariance Type:</th>      <td>nonrobust</td>    <th>                     </th>     <td> </td>    \n",
       "</tr>\n",
       "</table>\n",
       "<table class=\"simpletable\">\n",
       "<tr>\n",
       "           <td></td>             <th>coef</th>     <th>std err</th>      <th>t</th>      <th>P>|t|</th>  <th>[0.025</th>    <th>0.975]</th>  \n",
       "</tr>\n",
       "<tr>\n",
       "  <th>Year</th>               <td>    0.0123</td> <td>    0.001</td> <td>   14.203</td> <td> 0.000</td> <td>    0.011</td> <td>    0.014</td>\n",
       "</tr>\n",
       "<tr>\n",
       "  <th>Month</th>              <td>   -0.3927</td> <td>    0.198</td> <td>   -1.979</td> <td> 0.048</td> <td>   -0.782</td> <td>   -0.003</td>\n",
       "</tr>\n",
       "<tr>\n",
       "  <th>Day</th>                <td>   -0.1878</td> <td>    0.073</td> <td>   -2.581</td> <td> 0.010</td> <td>   -0.331</td> <td>   -0.045</td>\n",
       "</tr>\n",
       "<tr>\n",
       "  <th>Processed_PPC Cost</th> <td>    0.1276</td> <td>    0.013</td> <td>    9.755</td> <td> 0.000</td> <td>    0.102</td> <td>    0.153</td>\n",
       "</tr>\n",
       "</table>\n",
       "<table class=\"simpletable\">\n",
       "<tr>\n",
       "  <th>Omnibus:</th>       <td>1700.140</td> <th>  Durbin-Watson:     </th>  <td>   1.415</td>  \n",
       "</tr>\n",
       "<tr>\n",
       "  <th>Prob(Omnibus):</th>  <td> 0.000</td>  <th>  Jarque-Bera (JB):  </th> <td>1516282.360</td>\n",
       "</tr>\n",
       "<tr>\n",
       "  <th>Skew:</th>           <td>11.013</td>  <th>  Prob(JB):          </th>  <td>    0.00</td>  \n",
       "</tr>\n",
       "<tr>\n",
       "  <th>Kurtosis:</th>       <td>193.358</td> <th>  Cond. No.          </th>  <td>    628.</td>  \n",
       "</tr>\n",
       "</table><br/><br/>Warnings:<br/>[1] Standard Errors assume that the covariance matrix of the errors is correctly specified."
      ],
      "text/plain": [
       "<class 'statsmodels.iolib.summary.Summary'>\n",
       "\"\"\"\n",
       "                            OLS Regression Results                            \n",
       "==============================================================================\n",
       "Dep. Variable:                  Units   R-squared:                       0.593\n",
       "Model:                            OLS   Adj. R-squared:                  0.592\n",
       "Method:                 Least Squares   F-statistic:                     360.2\n",
       "Date:                Mon, 17 Feb 2020   Prob (F-statistic):          3.61e-191\n",
       "Time:                        14:54:20   Log-Likelihood:                -4377.0\n",
       "No. Observations:                 991   AIC:                             8762.\n",
       "Df Residuals:                     987   BIC:                             8782.\n",
       "Df Model:                           4                                         \n",
       "Covariance Type:            nonrobust                                         \n",
       "======================================================================================\n",
       "                         coef    std err          t      P>|t|      [0.025      0.975]\n",
       "--------------------------------------------------------------------------------------\n",
       "Year                   0.0123      0.001     14.203      0.000       0.011       0.014\n",
       "Month                 -0.3927      0.198     -1.979      0.048      -0.782      -0.003\n",
       "Day                   -0.1878      0.073     -2.581      0.010      -0.331      -0.045\n",
       "Processed_PPC Cost     0.1276      0.013      9.755      0.000       0.102       0.153\n",
       "==============================================================================\n",
       "Omnibus:                     1700.140   Durbin-Watson:                   1.415\n",
       "Prob(Omnibus):                  0.000   Jarque-Bera (JB):          1516282.360\n",
       "Skew:                          11.013   Prob(JB):                         0.00\n",
       "Kurtosis:                     193.358   Cond. No.                         628.\n",
       "==============================================================================\n",
       "\n",
       "Warnings:\n",
       "[1] Standard Errors assume that the covariance matrix of the errors is correctly specified.\n",
       "\"\"\""
      ]
     },
     "execution_count": 44,
     "metadata": {},
     "output_type": "execute_result"
    }
   ],
   "source": [
    "summary.get(1)"
   ]
  },
  {
   "cell_type": "code",
   "execution_count": 45,
   "metadata": {},
   "outputs": [],
   "source": [
    "brands_ols_rmse = {}\n",
    "for id in brands_test_set.keys():\n",
    "    actual_val = brands_test_set.get(id)['Units']\n",
    "    predict_val = predictions.get(id)\n",
    "    brands_ols_rmse[id] = calculate_rmse(actual_val,predict_val)"
   ]
  },
  {
   "cell_type": "code",
   "execution_count": 46,
   "metadata": {},
   "outputs": [
    {
     "name": "stdout",
     "output_type": "stream",
     "text": [
      "Brand ID 1 RMSE:  30.91\n",
      "Brand ID 1 min value:  9\n",
      "Brand ID 1 max value:  323\n"
     ]
    }
   ],
   "source": [
    "## For Brand ID:1 \n",
    "print(\"Brand ID 1 RMSE: \",brands_ols_rmse.get(1))\n",
    "print(\"Brand ID 1 min value: \",brands_test_set.get(1)['Units'].min())\n",
    "print(\"Brand ID 1 max value: \",brands_test_set.get(1)['Units'].max())"
   ]
  },
  {
   "cell_type": "code",
   "execution_count": 47,
   "metadata": {},
   "outputs": [
    {
     "name": "stdout",
     "output_type": "stream",
     "text": [
      "Brand ID 20 RMSE:  32.57\n",
      "Brand ID 20 min value:  11\n",
      "Brand ID 20 max value:  75\n"
     ]
    }
   ],
   "source": [
    "## For Brand ID:20 \n",
    "print(\"Brand ID 20 RMSE: \",brands_ols_rmse.get(20))\n",
    "print(\"Brand ID 20 min value: \",brands_test_set.get(20)['Units'].min())\n",
    "print(\"Brand ID 20 max value: \",brands_test_set.get(20)['Units'].max())"
   ]
  },
  {
   "cell_type": "code",
   "execution_count": 48,
   "metadata": {},
   "outputs": [
    {
     "name": "stdout",
     "output_type": "stream",
     "text": [
      "Brand ID 36 RMSE:  9.7\n",
      "Brand ID 36 min value:  4\n",
      "Brand ID 36 max value:  55\n"
     ]
    }
   ],
   "source": [
    "## For Brand ID:36\n",
    "print(\"Brand ID 36 RMSE: \",brands_ols_rmse.get(36))\n",
    "print(\"Brand ID 36 min value: \",brands_test_set.get(36)['Units'].min())\n",
    "print(\"Brand ID 36 max value: \",brands_test_set.get(36)['Units'].max())"
   ]
  },
  {
   "cell_type": "markdown",
   "metadata": {},
   "source": [
    "#### Creating a comparison for RMSE between results from Moving Average vs Linear Regression"
   ]
  },
  {
   "cell_type": "code",
   "execution_count": 49,
   "metadata": {},
   "outputs": [
    {
     "data": {
      "text/plain": [
       "Counter({'No': 17, 'Yes': 33})"
      ]
     },
     "execution_count": 49,
     "metadata": {},
     "output_type": "execute_result"
    }
   ],
   "source": [
    "\n",
    "rmse_comparison = []\n",
    "for ids in brands_test_set.keys():\n",
    "    rmse_ma = brands_moving_avg_rmse.get(ids)\n",
    "    rmse_lr = brands_ols_rmse.get(ids)\n",
    "    if rmse_lr > rmse_ma:\n",
    "        rmse_comparison.append('Yes')\n",
    "    else:\n",
    "        rmse_comparison.append('No')\n",
    "    \n",
    "Counter(rmse_comparison)"
   ]
  },
  {
   "cell_type": "markdown",
   "metadata": {},
   "source": [
    "### Inference from Linear Regression:\n",
    "\n",
    "1. We can see that RMSE after using Ordinary Least Squares technique for generating linear regression predictions is much higher than what we observed on predictions from Moving Averages. This stands true for the combined dataset as well as the brand-wise dataset, as seen from the comparison above. This suggests that perhaps our dataset does not have a lot of 'linearity' to be able to utilize the Ordinary Least Squares model.\n",
    "2. Another important observation we make is that the p-value for Processed_PPC Cost is 0.00, implying that is an important feature for generating forecasts for this dataset."
   ]
  },
  {
   "cell_type": "markdown",
   "metadata": {},
   "source": [
    "### 3. ARIMA\n",
    "- While implementing ARIMA we just use the combined dataset showcased as a single timeseries since it takes a lot of steps on analyzing and visualizing the data before we can apply ARIMA. This is definitely an approach that can be implemented when we want to focus on each brand individually and ensure our forecasts are great. However, given the time constraint we will just focus on the combined dataset."
   ]
  },
  {
   "cell_type": "markdown",
   "metadata": {},
   "source": [
    "#### 1. Plotting the daily units distribution over the entire timeseries"
   ]
  },
  {
   "cell_type": "code",
   "execution_count": 50,
   "metadata": {},
   "outputs": [
    {
     "data": {
      "image/png": "[encoded data removed]",
      "text/plain": [
       "<Figure size 1600x500 with 1 Axes>"
      ]
     },
     "metadata": {
      "needs_background": "light"
     },
     "output_type": "display_data"
    }
   ],
   "source": [
    "years = mdates.YearLocator(base=1,month=1,day=1)\n",
    "months = mdates.MonthLocator()\n",
    "years_fmt = mdates.DateFormatter('%Y') \n",
    "months_fmt = mdates.DateFormatter('%b')\n",
    "\n",
    "plt.figure(figsize=(16,5), dpi=100)\n",
    "plt.plot(combined_dataset['Date'], combined_dataset['Units'], color='c')\n",
    "X = plt.gca().xaxis\n",
    "X.set_major_locator(years)\n",
    "X.set_major_formatter(years_fmt)\n",
    "X.set_minor_locator(months)\n",
    "# X.set_minor_formatter(months_fmt)\n",
    "plt.gca().set(title='Daily units for all products together from 2017 to 2020', xlabel='Year', ylabel='Units Demand')\n",
    "\n",
    "plt.show()"
   ]
  },
  {
   "cell_type": "markdown",
   "metadata": {},
   "source": [
    "2. #### In order to apply ARIMA or any models to be able to foreacast, we want to check if the timeseries is stationary by using a Dickey-Fuller test which provides quantitative results."
   ]
  },
  {
   "cell_type": "code",
   "execution_count": 51,
   "metadata": {},
   "outputs": [
    {
     "data": {
      "text/html": [
       "<div>\n",
       "<style scoped>\n",
       "    .dataframe tbody tr th:only-of-type {\n",
       "        vertical-align: middle;\n",
       "    }\n",
       "\n",
       "    .dataframe tbody tr th {\n",
       "        vertical-align: top;\n",
       "    }\n",
       "\n",
       "    .dataframe thead th {\n",
       "        text-align: right;\n",
       "    }\n",
       "</style>\n",
       "<table border=\"1\" class=\"dataframe\">\n",
       "  <thead>\n",
       "    <tr style=\"text-align: right;\">\n",
       "      <th></th>\n",
       "      <th>Units</th>\n",
       "    </tr>\n",
       "    <tr>\n",
       "      <th>Date</th>\n",
       "      <th></th>\n",
       "    </tr>\n",
       "  </thead>\n",
       "  <tbody>\n",
       "    <tr>\n",
       "      <th>2017-01-01</th>\n",
       "      <td>340</td>\n",
       "    </tr>\n",
       "    <tr>\n",
       "      <th>2017-01-02</th>\n",
       "      <td>477</td>\n",
       "    </tr>\n",
       "    <tr>\n",
       "      <th>2017-01-03</th>\n",
       "      <td>437</td>\n",
       "    </tr>\n",
       "    <tr>\n",
       "      <th>2017-01-04</th>\n",
       "      <td>794</td>\n",
       "    </tr>\n",
       "    <tr>\n",
       "      <th>2017-01-05</th>\n",
       "      <td>490</td>\n",
       "    </tr>\n",
       "  </tbody>\n",
       "</table>\n",
       "</div>"
      ],
      "text/plain": [
       "            Units\n",
       "Date             \n",
       "2017-01-01    340\n",
       "2017-01-02    477\n",
       "2017-01-03    437\n",
       "2017-01-04    794\n",
       "2017-01-05    490"
      ]
     },
     "execution_count": 51,
     "metadata": {},
     "output_type": "execute_result"
    }
   ],
   "source": [
    "combined_data =  combined_dataset[['Date','Units']] \n",
    "combined_ts = combined_data.set_index('Date')\n",
    "combined_ts.head()"
   ]
  },
  {
   "cell_type": "code",
   "execution_count": 52,
   "metadata": {},
   "outputs": [
    {
     "name": "stdout",
     "output_type": "stream",
     "text": [
      "ADF Statistic: -2.0842386970362066\n",
      "p-value: 0.25089934573201134\n",
      "Critial Values:\n",
      "   1%, -3.436358022565693\n",
      "Critial Values:\n",
      "   5%, -2.8641928088747743\n",
      "Critial Values:\n",
      "   10%, -2.5681824424400626\n"
     ]
    }
   ],
   "source": [
    "adf_result = adfuller(combined_ts['Units'].values, autolag='AIC')\n",
    "print(f'ADF Statistic: {adf_result[0]}')\n",
    "print(f'p-value: {adf_result[1]}')\n",
    "for key, value in adf_result[4].items():\n",
    "    print('Critial Values:')\n",
    "    print(f'   {key}, {value}')"
   ]
  },
  {
   "cell_type": "markdown",
   "metadata": {},
   "source": [
    "#### Results evaluation: Looking at the results above, the ADF statistic result is not lower than any of the Critical Values and also the p-value is 0.25 which is quite high. Thus we can conclude that our dataset is non-stationary."
   ]
  },
  {
   "cell_type": "markdown",
   "metadata": {},
   "source": [
    "#### 3. Plotting AutoCorrelation Plot:"
   ]
  },
  {
   "cell_type": "code",
   "execution_count": 53,
   "metadata": {
    "scrolled": true
   },
   "outputs": [
    {
     "data": {
      "image/png": "[encoded data removed]",
      "text/plain": [
       "<Figure size 1600x600 with 2 Axes>"
      ]
     },
     "metadata": {
      "needs_background": "light"
     },
     "output_type": "display_data"
    }
   ],
   "source": [
    "fig = plt.figure(figsize=(16,6), dpi= 100)\n",
    "layout = (2,2)\n",
    "acf_ax = plt.subplot2grid(layout, (1,0))\n",
    "pacf_ax = plt.subplot2grid(layout, (1,1))\n",
    "\n",
    "plot_acf(combined_ts['Units'].tolist(), lags=30, ax=acf_ax)\n",
    "plot_pacf(combined_ts['Units'].tolist(), lags=30, ax=pacf_ax)\n",
    "plt.tight_layout()"
   ]
  },
  {
   "cell_type": "markdown",
   "metadata": {},
   "source": [
    "#### Results evaluation: We can see that the correlation is high in this time series and there is also a bit of seasonality observed here. We take the first difference to get rid of the high correlation & make the data stationary."
   ]
  },
  {
   "cell_type": "code",
   "execution_count": 54,
   "metadata": {},
   "outputs": [],
   "source": [
    "data_diff = combined_ts['Units'] - combined_ts['Units'].shift(1)\n",
    "data_diff = data_diff[1:]\n"
   ]
  },
  {
   "cell_type": "code",
   "execution_count": 55,
   "metadata": {},
   "outputs": [
    {
     "data": {
      "text/html": [
       "<div>\n",
       "<style scoped>\n",
       "    .dataframe tbody tr th:only-of-type {\n",
       "        vertical-align: middle;\n",
       "    }\n",
       "\n",
       "    .dataframe tbody tr th {\n",
       "        vertical-align: top;\n",
       "    }\n",
       "\n",
       "    .dataframe thead th {\n",
       "        text-align: right;\n",
       "    }\n",
       "</style>\n",
       "<table border=\"1\" class=\"dataframe\">\n",
       "  <thead>\n",
       "    <tr style=\"text-align: right;\">\n",
       "      <th></th>\n",
       "      <th>Date</th>\n",
       "      <th>Units</th>\n",
       "    </tr>\n",
       "  </thead>\n",
       "  <tbody>\n",
       "    <tr>\n",
       "      <th>1101</th>\n",
       "      <td>2020-01-08</td>\n",
       "      <td>-56.0</td>\n",
       "    </tr>\n",
       "    <tr>\n",
       "      <th>1102</th>\n",
       "      <td>2020-01-09</td>\n",
       "      <td>-8.0</td>\n",
       "    </tr>\n",
       "    <tr>\n",
       "      <th>1103</th>\n",
       "      <td>2020-01-10</td>\n",
       "      <td>-733.0</td>\n",
       "    </tr>\n",
       "    <tr>\n",
       "      <th>1104</th>\n",
       "      <td>2020-01-11</td>\n",
       "      <td>589.0</td>\n",
       "    </tr>\n",
       "    <tr>\n",
       "      <th>1105</th>\n",
       "      <td>2020-01-12</td>\n",
       "      <td>2432.0</td>\n",
       "    </tr>\n",
       "  </tbody>\n",
       "</table>\n",
       "</div>"
      ],
      "text/plain": [
       "           Date   Units\n",
       "1101 2020-01-08   -56.0\n",
       "1102 2020-01-09    -8.0\n",
       "1103 2020-01-10  -733.0\n",
       "1104 2020-01-11   589.0\n",
       "1105 2020-01-12  2432.0"
      ]
     },
     "execution_count": 55,
     "metadata": {},
     "output_type": "execute_result"
    }
   ],
   "source": [
    "data_diff_df = pd.DataFrame({'Date': data_diff.index, 'Units':data_diff.values})\n",
    "data_diff_df.tail()"
   ]
  },
  {
   "cell_type": "code",
   "execution_count": 56,
   "metadata": {},
   "outputs": [
    {
     "data": {
      "image/png": "[encoded data removed]",
      "text/plain": [
       "<Figure size 1600x500 with 1 Axes>"
      ]
     },
     "metadata": {
      "needs_background": "light"
     },
     "output_type": "display_data"
    }
   ],
   "source": [
    "plt.figure(figsize=(16,5), dpi=100)\n",
    "plt.plot(data_diff_df['Date'], data_diff_df['Units'], color='g')\n",
    "X = plt.gca().xaxis\n",
    "X.set_major_locator(years)\n",
    "X.set_major_formatter(years_fmt)\n",
    "X.set_minor_locator(months)\n",
    "# X.set_minor_formatter(months_fmt)\n",
    "plt.gca().set(title='After first differencing - Daily Units', xlabel='Year', ylabel='Units Demand')\n",
    "\n",
    "plt.show()"
   ]
  },
  {
   "cell_type": "code",
   "execution_count": 57,
   "metadata": {},
   "outputs": [
    {
     "data": {
      "image/png": "[encoded data removed]",
      "text/plain": [
       "<Figure size 1600x600 with 2 Axes>"
      ]
     },
     "metadata": {
      "needs_background": "light"
     },
     "output_type": "display_data"
    }
   ],
   "source": [
    "fig = plt.figure(figsize=(16,6), dpi= 100)\n",
    "layout = (2,2)\n",
    "acf_ax = plt.subplot2grid(layout, (1,0))\n",
    "pacf_ax = plt.subplot2grid(layout, (1,1))\n",
    "\n",
    "plot_acf(data_diff[1:], lags=30, ax=acf_ax)\n",
    "plot_pacf(data_diff[1:], lags=30, ax=pacf_ax)\n",
    "plt.tight_layout()"
   ]
  },
  {
   "cell_type": "code",
   "execution_count": 58,
   "metadata": {},
   "outputs": [
    {
     "name": "stdout",
     "output_type": "stream",
     "text": [
      "ADF Statistic: -11.385973135592955\n",
      "p-value: 8.288538495150398e-21\n",
      "Critial Values:\n",
      "   1%, -3.436358022565693\n",
      "Critial Values:\n",
      "   5%, -2.8641928088747743\n",
      "Critial Values:\n",
      "   10%, -2.5681824424400626\n"
     ]
    }
   ],
   "source": [
    "adf_result_diff = adfuller(data_diff_df['Units'].values, autolag='AIC')\n",
    "print(f'ADF Statistic: {adf_result_diff[0]}')\n",
    "print(f'p-value: {adf_result_diff[1]}')\n",
    "for key, value in adf_result_diff[4].items():\n",
    "    print('Critial Values:')\n",
    "    print(f'   {key}, {value}')"
   ]
  },
  {
   "cell_type": "markdown",
   "metadata": {},
   "source": [
    "#### Results Evaluation: Fantastic! After first differencing our dataset has become stationary, and we have validated it using ACF plots, ADF test and plot of the Units"
   ]
  },
  {
   "cell_type": "code",
   "execution_count": 59,
   "metadata": {},
   "outputs": [
    {
     "name": "stdout",
     "output_type": "stream",
     "text": [
      "                             ARIMA Model Results                              \n",
      "==============================================================================\n",
      "Dep. Variable:                D.Units   No. Observations:                  995\n",
      "Model:                 ARIMA(1, 1, 2)   Log Likelihood               -8247.393\n",
      "Method:                       css-mle   S.D. of innovations            962.420\n",
      "Date:                Mon, 17 Feb 2020   AIC                          16504.787\n",
      "Time:                        14:54:22   BIC                          16529.301\n",
      "Sample:                             1   HQIC                         16514.106\n",
      "                                                                              \n",
      "=================================================================================\n",
      "                    coef    std err          z      P>|z|      [0.025      0.975]\n",
      "---------------------------------------------------------------------------------\n",
      "const             7.3761      6.825      1.081      0.280      -6.000      20.753\n",
      "ar.L1.D.Units     0.0099      0.088      0.113      0.910      -0.162       0.182\n",
      "ma.L1.D.Units    -0.3304      0.082     -4.029      0.000      -0.491      -0.170\n",
      "ma.L2.D.Units    -0.4493      0.055     -8.112      0.000      -0.558      -0.341\n",
      "                                    Roots                                    \n",
      "=============================================================================\n",
      "                  Real          Imaginary           Modulus         Frequency\n",
      "-----------------------------------------------------------------------------\n",
      "AR.1          101.2994           +0.0000j          101.2994            0.0000\n",
      "MA.1            1.1688           +0.0000j            1.1688            0.0000\n",
      "MA.2           -1.9042           +0.0000j            1.9042            0.5000\n",
      "-----------------------------------------------------------------------------\n"
     ]
    }
   ],
   "source": [
    "model_p1d1q2 = ARIMA(combined_train_set['Units'], order=(1,1,2))\n",
    "model_p1d1q2_fit = model_p1d1q2.fit(disp=0)\n",
    "print(model_p1d1q2_fit.summary())"
   ]
  },
  {
   "cell_type": "code",
   "execution_count": 60,
   "metadata": {},
   "outputs": [
    {
     "name": "stdout",
     "output_type": "stream",
     "text": [
      "The RMSE for ARIMA (p1d1q2) is:  3207.0  units\n"
     ]
    }
   ],
   "source": [
    "p1d1q2_arima_predictions = model_p1d1q2_fit.forecast(steps=111)[0]\n",
    "p1d1q2_arima_rmse = calculate_rmse(combined_test_set['Units'],list(p1d1q2_arima_predictions))\n",
    "print(\"The RMSE for ARIMA (p1d1q2) is: \",np.round(p1d1q2_arima_rmse,0), \" units\")"
   ]
  },
  {
   "cell_type": "markdown",
   "metadata": {},
   "source": [
    "### Inference from ARIMA:\n",
    "\n",
    "1. We can see that RMSE after using ARIMA is quite similar to results from moving averages. Another important note is that the p-value for the AR part of this model is really high, thus confirming that linear is not a significant aspect in this dataset for generating forecasts."
   ]
  }
 ],
 "metadata": {
  "kernelspec": {
   "display_name": "Python 3",
   "language": "python",
   "name": "python3"
  },
  "language_info": {
   "codemirror_mode": {
    "name": "ipython",
    "version": 3
   },
   "file_extension": ".py",
   "mimetype": "text/x-python",
   "name": "python",
   "nbconvert_exporter": "python",
   "pygments_lexer": "ipython3",
   "version": "3.7.3"
  }
 },
 "nbformat": 4,
 "nbformat_minor": 2
}
